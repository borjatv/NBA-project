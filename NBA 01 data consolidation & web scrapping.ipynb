{
 "cells": [
  {
   "cell_type": "markdown",
   "metadata": {},
   "source": [
    "## Importar librerías"
   ]
  },
  {
   "cell_type": "code",
   "execution_count": 1,
   "metadata": {},
   "outputs": [],
   "source": [
    "import pandas as pd\n",
    "import numpy as np\n",
    "import matplotlib.pyplot as plt\n",
    "import seaborn as sns"
   ]
  },
  {
   "cell_type": "code",
   "execution_count": 219,
   "metadata": {},
   "outputs": [],
   "source": [
    "from fuzzywuzzy import fuzz\n",
    "from fuzzywuzzy import process"
   ]
  },
  {
   "cell_type": "code",
   "execution_count": 280,
   "metadata": {},
   "outputs": [],
   "source": [
    "from tqdm import tqdm"
   ]
  },
  {
   "cell_type": "code",
   "execution_count": 577,
   "metadata": {},
   "outputs": [],
   "source": [
    "import requests\n",
    "from selenium import webdriver\n",
    "from selenium.webdriver.common.keys import Keys"
   ]
  },
  {
   "cell_type": "code",
   "execution_count": 495,
   "metadata": {},
   "outputs": [],
   "source": [
    "import re"
   ]
  },
  {
   "cell_type": "markdown",
   "metadata": {},
   "source": [
    "# Importar datasets"
   ]
  },
  {
   "cell_type": "markdown",
   "metadata": {},
   "source": [
    "## NBA regular season stats"
   ]
  },
  {
   "cell_type": "markdown",
   "metadata": {},
   "source": [
    "Importamos los 21 dataframes, los concatenamos y le asignamos el valor de la temporada en la variable 'season'"
   ]
  },
  {
   "cell_type": "code",
   "execution_count": 148,
   "metadata": {},
   "outputs": [],
   "source": [
    "data = pd.DataFrame()\n",
    "for i in range(2001,2022):\n",
    "    df = pd.read_csv(f'./Data/season_{i}_detailed.csv')\n",
    "    df['season'] = i\n",
    "    data = pd.concat([data, df])"
   ]
  },
  {
   "cell_type": "code",
   "execution_count": 152,
   "metadata": {},
   "outputs": [
    {
     "data": {
      "text/html": [
       "<div>\n",
       "<style scoped>\n",
       "    .dataframe tbody tr th:only-of-type {\n",
       "        vertical-align: middle;\n",
       "    }\n",
       "\n",
       "    .dataframe tbody tr th {\n",
       "        vertical-align: top;\n",
       "    }\n",
       "\n",
       "    .dataframe thead th {\n",
       "        text-align: right;\n",
       "    }\n",
       "</style>\n",
       "<table border=\"1\" class=\"dataframe\">\n",
       "  <thead>\n",
       "    <tr style=\"text-align: right;\">\n",
       "      <th></th>\n",
       "      <th>date</th>\n",
       "      <th>team</th>\n",
       "      <th>player</th>\n",
       "      <th>role</th>\n",
       "      <th>MP</th>\n",
       "      <th>FG</th>\n",
       "      <th>FGA</th>\n",
       "      <th>FG_PCT</th>\n",
       "      <th>FG3</th>\n",
       "      <th>FG3A</th>\n",
       "      <th>...</th>\n",
       "      <th>DRB</th>\n",
       "      <th>TRB</th>\n",
       "      <th>AST</th>\n",
       "      <th>STL</th>\n",
       "      <th>BLK</th>\n",
       "      <th>TOV</th>\n",
       "      <th>PF</th>\n",
       "      <th>PTS</th>\n",
       "      <th>PLUS_MINUS</th>\n",
       "      <th>season</th>\n",
       "    </tr>\n",
       "  </thead>\n",
       "  <tbody>\n",
       "    <tr>\n",
       "      <th>0</th>\n",
       "      <td>2000-10-31T19:30:00</td>\n",
       "      <td>Charlotte Hornets</td>\n",
       "      <td>P.J. Brown</td>\n",
       "      <td>Starter</td>\n",
       "      <td>38.6333</td>\n",
       "      <td>5</td>\n",
       "      <td>7</td>\n",
       "      <td>0.714</td>\n",
       "      <td>0</td>\n",
       "      <td>0</td>\n",
       "      <td>...</td>\n",
       "      <td>15</td>\n",
       "      <td>16</td>\n",
       "      <td>1</td>\n",
       "      <td>1</td>\n",
       "      <td>2</td>\n",
       "      <td>1</td>\n",
       "      <td>2</td>\n",
       "      <td>14</td>\n",
       "      <td>28.0</td>\n",
       "      <td>2001</td>\n",
       "    </tr>\n",
       "    <tr>\n",
       "      <th>1</th>\n",
       "      <td>2000-10-31T19:30:00</td>\n",
       "      <td>Orlando Magic</td>\n",
       "      <td>Darrell Armstrong</td>\n",
       "      <td>Starter</td>\n",
       "      <td>35.5833</td>\n",
       "      <td>4</td>\n",
       "      <td>9</td>\n",
       "      <td>0.444</td>\n",
       "      <td>0</td>\n",
       "      <td>1</td>\n",
       "      <td>...</td>\n",
       "      <td>2</td>\n",
       "      <td>2</td>\n",
       "      <td>3</td>\n",
       "      <td>0</td>\n",
       "      <td>1</td>\n",
       "      <td>3</td>\n",
       "      <td>2</td>\n",
       "      <td>10</td>\n",
       "      <td>10.0</td>\n",
       "      <td>2001</td>\n",
       "    </tr>\n",
       "    <tr>\n",
       "      <th>2</th>\n",
       "      <td>2000-10-31T19:30:00</td>\n",
       "      <td>Orlando Magic</td>\n",
       "      <td>Grant Hill</td>\n",
       "      <td>Starter</td>\n",
       "      <td>33.55</td>\n",
       "      <td>3</td>\n",
       "      <td>6</td>\n",
       "      <td>0.500</td>\n",
       "      <td>0</td>\n",
       "      <td>0</td>\n",
       "      <td>...</td>\n",
       "      <td>5</td>\n",
       "      <td>5</td>\n",
       "      <td>10</td>\n",
       "      <td>2</td>\n",
       "      <td>1</td>\n",
       "      <td>5</td>\n",
       "      <td>3</td>\n",
       "      <td>9</td>\n",
       "      <td>5.0</td>\n",
       "      <td>2001</td>\n",
       "    </tr>\n",
       "    <tr>\n",
       "      <th>3</th>\n",
       "      <td>2000-10-31T19:30:00</td>\n",
       "      <td>Orlando Magic</td>\n",
       "      <td>John Amaechi</td>\n",
       "      <td>Starter</td>\n",
       "      <td>25.4167</td>\n",
       "      <td>6</td>\n",
       "      <td>10</td>\n",
       "      <td>0.600</td>\n",
       "      <td>0</td>\n",
       "      <td>0</td>\n",
       "      <td>...</td>\n",
       "      <td>3</td>\n",
       "      <td>3</td>\n",
       "      <td>1</td>\n",
       "      <td>1</td>\n",
       "      <td>1</td>\n",
       "      <td>2</td>\n",
       "      <td>4</td>\n",
       "      <td>14</td>\n",
       "      <td>0.0</td>\n",
       "      <td>2001</td>\n",
       "    </tr>\n",
       "    <tr>\n",
       "      <th>4</th>\n",
       "      <td>2000-10-31T19:30:00</td>\n",
       "      <td>Orlando Magic</td>\n",
       "      <td>Bo Outlaw</td>\n",
       "      <td>Starter</td>\n",
       "      <td>19.3167</td>\n",
       "      <td>2</td>\n",
       "      <td>4</td>\n",
       "      <td>0.500</td>\n",
       "      <td>0</td>\n",
       "      <td>0</td>\n",
       "      <td>...</td>\n",
       "      <td>2</td>\n",
       "      <td>4</td>\n",
       "      <td>0</td>\n",
       "      <td>1</td>\n",
       "      <td>3</td>\n",
       "      <td>0</td>\n",
       "      <td>3</td>\n",
       "      <td>5</td>\n",
       "      <td>-2.0</td>\n",
       "      <td>2001</td>\n",
       "    </tr>\n",
       "  </tbody>\n",
       "</table>\n",
       "<p>5 rows × 25 columns</p>\n",
       "</div>"
      ],
      "text/plain": [
       "                  date               team             player     role  \\\n",
       "0  2000-10-31T19:30:00  Charlotte Hornets         P.J. Brown  Starter   \n",
       "1  2000-10-31T19:30:00      Orlando Magic  Darrell Armstrong  Starter   \n",
       "2  2000-10-31T19:30:00      Orlando Magic         Grant Hill  Starter   \n",
       "3  2000-10-31T19:30:00      Orlando Magic       John Amaechi  Starter   \n",
       "4  2000-10-31T19:30:00      Orlando Magic          Bo Outlaw  Starter   \n",
       "\n",
       "        MP  FG  FGA  FG_PCT  FG3  FG3A  ...  DRB  TRB  AST  STL  BLK  TOV  PF  \\\n",
       "0  38.6333   5    7   0.714    0     0  ...   15   16    1    1    2    1   2   \n",
       "1  35.5833   4    9   0.444    0     1  ...    2    2    3    0    1    3   2   \n",
       "2    33.55   3    6   0.500    0     0  ...    5    5   10    2    1    5   3   \n",
       "3  25.4167   6   10   0.600    0     0  ...    3    3    1    1    1    2   4   \n",
       "4  19.3167   2    4   0.500    0     0  ...    2    4    0    1    3    0   3   \n",
       "\n",
       "   PTS  PLUS_MINUS  season  \n",
       "0   14        28.0    2001  \n",
       "1   10        10.0    2001  \n",
       "2    9         5.0    2001  \n",
       "3   14         0.0    2001  \n",
       "4    5        -2.0    2001  \n",
       "\n",
       "[5 rows x 25 columns]"
      ]
     },
     "execution_count": 152,
     "metadata": {},
     "output_type": "execute_result"
    }
   ],
   "source": [
    "data.head()"
   ]
  },
  {
   "cell_type": "markdown",
   "metadata": {},
   "source": [
    "## NBA players features"
   ]
  },
  {
   "cell_type": "markdown",
   "metadata": {},
   "source": [
    "Ahora importamos los 2 dataframes restantes 'players' y 'salaries' y los uniremos en el mismo dataframe bajo el nombre 'database' haciendo join en el campo 'player_id'"
   ]
  },
  {
   "cell_type": "code",
   "execution_count": 156,
   "metadata": {},
   "outputs": [],
   "source": [
    "players = pd.read_csv('./Data/players.csv')"
   ]
  },
  {
   "cell_type": "code",
   "execution_count": 248,
   "metadata": {},
   "outputs": [
    {
     "data": {
      "text/html": [
       "<div>\n",
       "<style scoped>\n",
       "    .dataframe tbody tr th:only-of-type {\n",
       "        vertical-align: middle;\n",
       "    }\n",
       "\n",
       "    .dataframe tbody tr th {\n",
       "        vertical-align: top;\n",
       "    }\n",
       "\n",
       "    .dataframe thead th {\n",
       "        text-align: right;\n",
       "    }\n",
       "</style>\n",
       "<table border=\"1\" class=\"dataframe\">\n",
       "  <thead>\n",
       "    <tr style=\"text-align: right;\">\n",
       "      <th></th>\n",
       "      <th>player_id</th>\n",
       "      <th>birthDate</th>\n",
       "      <th>birthPlace</th>\n",
       "      <th>career_AST</th>\n",
       "      <th>career_FG%</th>\n",
       "      <th>career_FG3%</th>\n",
       "      <th>career_FT%</th>\n",
       "      <th>career_G</th>\n",
       "      <th>career_PER</th>\n",
       "      <th>career_PTS</th>\n",
       "      <th>...</th>\n",
       "      <th>draft_pick</th>\n",
       "      <th>draft_round</th>\n",
       "      <th>draft_team</th>\n",
       "      <th>draft_year</th>\n",
       "      <th>height</th>\n",
       "      <th>highSchool</th>\n",
       "      <th>name</th>\n",
       "      <th>position</th>\n",
       "      <th>shoots</th>\n",
       "      <th>weight</th>\n",
       "    </tr>\n",
       "  </thead>\n",
       "  <tbody>\n",
       "    <tr>\n",
       "      <th>0</th>\n",
       "      <td>abdelal01</td>\n",
       "      <td>June 24, 1968</td>\n",
       "      <td>Cairo, Egypt</td>\n",
       "      <td>0.3</td>\n",
       "      <td>50.2</td>\n",
       "      <td>0.0</td>\n",
       "      <td>70.1</td>\n",
       "      <td>256</td>\n",
       "      <td>13.0</td>\n",
       "      <td>5.7</td>\n",
       "      <td>...</td>\n",
       "      <td>25th overall</td>\n",
       "      <td>1st round</td>\n",
       "      <td>Portland Trail Blazers</td>\n",
       "      <td>1990</td>\n",
       "      <td>6-10</td>\n",
       "      <td>Bloomfield in Bloomfield, New Jersey</td>\n",
       "      <td>Alaa Abdelnaby</td>\n",
       "      <td>Power Forward</td>\n",
       "      <td>Right</td>\n",
       "      <td>240lb</td>\n",
       "    </tr>\n",
       "    <tr>\n",
       "      <th>1</th>\n",
       "      <td>abdulza01</td>\n",
       "      <td>April 7, 1946</td>\n",
       "      <td>Brooklyn, New York</td>\n",
       "      <td>1.2</td>\n",
       "      <td>42.8</td>\n",
       "      <td>NaN</td>\n",
       "      <td>72.8</td>\n",
       "      <td>505</td>\n",
       "      <td>15.1</td>\n",
       "      <td>9.0</td>\n",
       "      <td>...</td>\n",
       "      <td>5th overall</td>\n",
       "      <td>1st round</td>\n",
       "      <td>Cincinnati Royals</td>\n",
       "      <td>1968</td>\n",
       "      <td>6-9</td>\n",
       "      <td>John Jay in Brooklyn, New York</td>\n",
       "      <td>Zaid Abdul-Aziz</td>\n",
       "      <td>Power Forward and Center</td>\n",
       "      <td>Right</td>\n",
       "      <td>235lb</td>\n",
       "    </tr>\n",
       "    <tr>\n",
       "      <th>2</th>\n",
       "      <td>abdulka01</td>\n",
       "      <td>April 16, 1947</td>\n",
       "      <td>New York, New York</td>\n",
       "      <td>3.6</td>\n",
       "      <td>55.9</td>\n",
       "      <td>5.6</td>\n",
       "      <td>72.1</td>\n",
       "      <td>1560</td>\n",
       "      <td>24.6</td>\n",
       "      <td>24.6</td>\n",
       "      <td>...</td>\n",
       "      <td>1st overall</td>\n",
       "      <td>1st round</td>\n",
       "      <td>Milwaukee Bucks</td>\n",
       "      <td>1969</td>\n",
       "      <td>7-2</td>\n",
       "      <td>Power Memorial in New York, New York</td>\n",
       "      <td>Kareem Abdul-Jabbar</td>\n",
       "      <td>Center</td>\n",
       "      <td>Right</td>\n",
       "      <td>225lb</td>\n",
       "    </tr>\n",
       "  </tbody>\n",
       "</table>\n",
       "<p>3 rows × 24 columns</p>\n",
       "</div>"
      ],
      "text/plain": [
       "   player_id       birthDate          birthPlace  career_AST career_FG%  \\\n",
       "0  abdelal01   June 24, 1968        Cairo, Egypt         0.3       50.2   \n",
       "1  abdulza01   April 7, 1946  Brooklyn, New York         1.2       42.8   \n",
       "2  abdulka01  April 16, 1947  New York, New York         3.6       55.9   \n",
       "\n",
       "  career_FG3% career_FT%  career_G career_PER  career_PTS  ...    draft_pick  \\\n",
       "0         0.0       70.1       256       13.0         5.7  ...  25th overall   \n",
       "1         NaN       72.8       505       15.1         9.0  ...   5th overall   \n",
       "2         5.6       72.1      1560       24.6        24.6  ...   1st overall   \n",
       "\n",
       "  draft_round              draft_team draft_year height  \\\n",
       "0   1st round  Portland Trail Blazers       1990   6-10   \n",
       "1   1st round       Cincinnati Royals       1968    6-9   \n",
       "2   1st round         Milwaukee Bucks       1969    7-2   \n",
       "\n",
       "                             highSchool                 name  \\\n",
       "0  Bloomfield in Bloomfield, New Jersey       Alaa Abdelnaby   \n",
       "1        John Jay in Brooklyn, New York      Zaid Abdul-Aziz   \n",
       "2  Power Memorial in New York, New York  Kareem Abdul-Jabbar   \n",
       "\n",
       "                   position shoots weight  \n",
       "0             Power Forward  Right  240lb  \n",
       "1  Power Forward and Center  Right  235lb  \n",
       "2                    Center  Right  225lb  \n",
       "\n",
       "[3 rows x 24 columns]"
      ]
     },
     "execution_count": 248,
     "metadata": {},
     "output_type": "execute_result"
    }
   ],
   "source": [
    "players.head(3)"
   ]
  },
  {
   "cell_type": "code",
   "execution_count": 235,
   "metadata": {},
   "outputs": [
    {
     "data": {
      "text/plain": [
       "(4685, 24)"
      ]
     },
     "execution_count": 235,
     "metadata": {},
     "output_type": "execute_result"
    }
   ],
   "source": [
    "players.shape"
   ]
  },
  {
   "cell_type": "code",
   "execution_count": 233,
   "metadata": {},
   "outputs": [],
   "source": [
    "salaries = pd.read_csv('./Data/salaries.csv')"
   ]
  },
  {
   "cell_type": "code",
   "execution_count": 249,
   "metadata": {},
   "outputs": [
    {
     "data": {
      "text/html": [
       "<div>\n",
       "<style scoped>\n",
       "    .dataframe tbody tr th:only-of-type {\n",
       "        vertical-align: middle;\n",
       "    }\n",
       "\n",
       "    .dataframe tbody tr th {\n",
       "        vertical-align: top;\n",
       "    }\n",
       "\n",
       "    .dataframe thead th {\n",
       "        text-align: right;\n",
       "    }\n",
       "</style>\n",
       "<table border=\"1\" class=\"dataframe\">\n",
       "  <thead>\n",
       "    <tr style=\"text-align: right;\">\n",
       "      <th></th>\n",
       "      <th>league</th>\n",
       "      <th>player_id</th>\n",
       "      <th>salary</th>\n",
       "      <th>season</th>\n",
       "      <th>season_end</th>\n",
       "      <th>season_start</th>\n",
       "      <th>team</th>\n",
       "    </tr>\n",
       "  </thead>\n",
       "  <tbody>\n",
       "    <tr>\n",
       "      <th>0</th>\n",
       "      <td>NBA</td>\n",
       "      <td>abdelal01</td>\n",
       "      <td>395000</td>\n",
       "      <td>1990-91</td>\n",
       "      <td>1991</td>\n",
       "      <td>1990</td>\n",
       "      <td>Portland Trail Blazers</td>\n",
       "    </tr>\n",
       "    <tr>\n",
       "      <th>1</th>\n",
       "      <td>NBA</td>\n",
       "      <td>abdelal01</td>\n",
       "      <td>494000</td>\n",
       "      <td>1991-92</td>\n",
       "      <td>1992</td>\n",
       "      <td>1991</td>\n",
       "      <td>Portland Trail Blazers</td>\n",
       "    </tr>\n",
       "    <tr>\n",
       "      <th>2</th>\n",
       "      <td>NBA</td>\n",
       "      <td>abdelal01</td>\n",
       "      <td>500000</td>\n",
       "      <td>1992-93</td>\n",
       "      <td>1993</td>\n",
       "      <td>1992</td>\n",
       "      <td>Boston Celtics</td>\n",
       "    </tr>\n",
       "  </tbody>\n",
       "</table>\n",
       "</div>"
      ],
      "text/plain": [
       "  league  player_id  salary   season  season_end  season_start  \\\n",
       "0    NBA  abdelal01  395000  1990-91        1991          1990   \n",
       "1    NBA  abdelal01  494000  1991-92        1992          1991   \n",
       "2    NBA  abdelal01  500000  1992-93        1993          1992   \n",
       "\n",
       "                     team  \n",
       "0  Portland Trail Blazers  \n",
       "1  Portland Trail Blazers  \n",
       "2          Boston Celtics  "
      ]
     },
     "execution_count": 249,
     "metadata": {},
     "output_type": "execute_result"
    }
   ],
   "source": [
    "salaries.head(3)"
   ]
  },
  {
   "cell_type": "code",
   "execution_count": 236,
   "metadata": {},
   "outputs": [
    {
     "data": {
      "text/plain": [
       "(14163, 7)"
      ]
     },
     "execution_count": 236,
     "metadata": {},
     "output_type": "execute_result"
    }
   ],
   "source": [
    "salaries.shape"
   ]
  },
  {
   "cell_type": "code",
   "execution_count": 243,
   "metadata": {},
   "outputs": [],
   "source": [
    "players.rename(columns = {'_id':'player_id'}, inplace = True)"
   ]
  },
  {
   "cell_type": "markdown",
   "metadata": {},
   "source": [
    "Creamos nuestro df con los datos de los jugadores 'database'"
   ]
  },
  {
   "cell_type": "code",
   "execution_count": 250,
   "metadata": {},
   "outputs": [],
   "source": [
    "database = salaries.merge(players, on='player_id', how='left')"
   ]
  },
  {
   "cell_type": "markdown",
   "metadata": {},
   "source": [
    "Ahora el objetivo es crear una nueva columna en nuestro dataframe 'data' con el nombre correcto, en caso de que éste aparezca en 'database'; con el que tenga un score >85% al compararlo con el método process.extractOne() de la librería fuzzywuzzy o con 'not found' en caso contrario."
   ]
  },
  {
   "cell_type": "code",
   "execution_count": 323,
   "metadata": {},
   "outputs": [],
   "source": [
    "# Aplicamos reset_index() para que funcione la iteración de abajo\n",
    "\n",
    "data = data.reset_index().drop('index', axis=1)"
   ]
  },
  {
   "cell_type": "code",
   "execution_count": 332,
   "metadata": {},
   "outputs": [
    {
     "name": "stderr",
     "output_type": "stream",
     "text": [
      "463592it [38:46, 199.30it/s]\n"
     ]
    },
    {
     "ename": "TypeError",
     "evalue": "'NoneType' object is not subscriptable",
     "output_type": "error",
     "traceback": [
      "\u001b[0;31m---------------------------------------------------------------------------\u001b[0m",
      "\u001b[0;31mTypeError\u001b[0m                                 Traceback (most recent call last)",
      "\u001b[0;32m<ipython-input-332-14317afdb45b>\u001b[0m in \u001b[0;36m<module>\u001b[0;34m\u001b[0m\n\u001b[1;32m     12\u001b[0m \u001b[0;34m\u001b[0m\u001b[0m\n\u001b[1;32m     13\u001b[0m     \u001b[0;31m# Si no lo encuentra, que saque el que tenga un parecido mayor al 85%\u001b[0m\u001b[0;34m\u001b[0m\u001b[0;34m\u001b[0m\u001b[0;34m\u001b[0m\u001b[0m\n\u001b[0;32m---> 14\u001b[0;31m     \u001b[0;32melif\u001b[0m \u001b[0mprocess\u001b[0m\u001b[0;34m.\u001b[0m\u001b[0mextractOne\u001b[0m\u001b[0;34m(\u001b[0m\u001b[0mc\u001b[0m\u001b[0;34m[\u001b[0m\u001b[0;34m'player'\u001b[0m\u001b[0;34m]\u001b[0m\u001b[0;34m,\u001b[0m \u001b[0mnames_list\u001b[0m\u001b[0;34m,\u001b[0m \u001b[0mscorer\u001b[0m\u001b[0;34m=\u001b[0m\u001b[0mfuzz\u001b[0m\u001b[0;34m.\u001b[0m\u001b[0mtoken_sort_ratio\u001b[0m\u001b[0;34m)\u001b[0m\u001b[0;34m[\u001b[0m\u001b[0;36m1\u001b[0m\u001b[0;34m]\u001b[0m \u001b[0;34m>=\u001b[0m \u001b[0;36m85\u001b[0m\u001b[0;34m:\u001b[0m\u001b[0;34m\u001b[0m\u001b[0;34m\u001b[0m\u001b[0m\n\u001b[0m\u001b[1;32m     15\u001b[0m         \u001b[0mdata\u001b[0m\u001b[0;34m.\u001b[0m\u001b[0mloc\u001b[0m\u001b[0;34m[\u001b[0m\u001b[0mi\u001b[0m\u001b[0;34m,\u001b[0m \u001b[0;34m'name_ok'\u001b[0m\u001b[0;34m]\u001b[0m \u001b[0;34m=\u001b[0m \u001b[0mprocess\u001b[0m\u001b[0;34m.\u001b[0m\u001b[0mextractOne\u001b[0m\u001b[0;34m(\u001b[0m\u001b[0mc\u001b[0m\u001b[0;34m[\u001b[0m\u001b[0;34m'player'\u001b[0m\u001b[0;34m]\u001b[0m\u001b[0;34m,\u001b[0m \u001b[0mnames_list\u001b[0m\u001b[0;34m,\u001b[0m \u001b[0mscorer\u001b[0m\u001b[0;34m=\u001b[0m\u001b[0mfuzz\u001b[0m\u001b[0;34m.\u001b[0m\u001b[0mtoken_sort_ratio\u001b[0m\u001b[0;34m)\u001b[0m\u001b[0;34m[\u001b[0m\u001b[0;36m0\u001b[0m\u001b[0;34m]\u001b[0m\u001b[0;34m\u001b[0m\u001b[0;34m\u001b[0m\u001b[0m\n\u001b[1;32m     16\u001b[0m \u001b[0;34m\u001b[0m\u001b[0m\n",
      "\u001b[0;31mTypeError\u001b[0m: 'NoneType' object is not subscriptable"
     ]
    }
   ],
   "source": [
    "# Aplicamos la iteración hasta el valor nº 463592, que es el primer valor de la temporada 2019\n",
    "\n",
    "# Hacemos esto porque no tenemos datos en 'database' a partir de esta temporada\n",
    "\n",
    "for i,c in tqdm(data[0:463592].iterrows()):\n",
    "    \n",
    "    # Creamos la variable 'year' para que lo haga con los datos de cada año\n",
    "    year = c['season']\n",
    "    \n",
    "    # Creamos la variable 'names_list' con todos los nombres en nuestra base de datos\n",
    "    names_list = database[database['season_end'] == year]['name'].unique()\n",
    "    \n",
    "    # Si encuentra el nombre dentro del mismo año, que lo ponga en una nueva columna\n",
    "    if c['player'] in names_list:\n",
    "        data.loc[i, 'name_ok'] = c['player']\n",
    "        \n",
    "    # Si no lo encuentra, que saque el que tenga un parecido mayor al 85%\n",
    "    elif process.extractOne(c['player'], names_list, scorer=fuzz.token_sort_ratio)[1] >= 85:\n",
    "        data.loc[i, 'name_ok'] = process.extractOne(c['player'], names_list, scorer=fuzz.token_sort_ratio)[0]\n",
    "            \n",
    "    # Si no hay ningún valor con fiabilidad mayor al 85%, que ponga 'not found'\n",
    "    else:\n",
    "        data.loc[i, 'name_ok'] = 'not found'\n",
    "          "
   ]
  },
  {
   "cell_type": "code",
   "execution_count": 348,
   "metadata": {},
   "outputs": [
    {
     "data": {
      "text/html": [
       "<div>\n",
       "<style scoped>\n",
       "    .dataframe tbody tr th:only-of-type {\n",
       "        vertical-align: middle;\n",
       "    }\n",
       "\n",
       "    .dataframe tbody tr th {\n",
       "        vertical-align: top;\n",
       "    }\n",
       "\n",
       "    .dataframe thead th {\n",
       "        text-align: right;\n",
       "    }\n",
       "</style>\n",
       "<table border=\"1\" class=\"dataframe\">\n",
       "  <thead>\n",
       "    <tr style=\"text-align: right;\">\n",
       "      <th></th>\n",
       "      <th>date</th>\n",
       "      <th>team</th>\n",
       "      <th>player</th>\n",
       "      <th>role</th>\n",
       "      <th>MP</th>\n",
       "      <th>FG</th>\n",
       "      <th>FGA</th>\n",
       "      <th>FG_PCT</th>\n",
       "      <th>FG3</th>\n",
       "      <th>FG3A</th>\n",
       "      <th>...</th>\n",
       "      <th>TRB</th>\n",
       "      <th>AST</th>\n",
       "      <th>STL</th>\n",
       "      <th>BLK</th>\n",
       "      <th>TOV</th>\n",
       "      <th>PF</th>\n",
       "      <th>PTS</th>\n",
       "      <th>PLUS_MINUS</th>\n",
       "      <th>season</th>\n",
       "      <th>name_ok</th>\n",
       "    </tr>\n",
       "  </thead>\n",
       "  <tbody>\n",
       "    <tr>\n",
       "      <th>463591</th>\n",
       "      <td>2018-06-08T21:00:00</td>\n",
       "      <td>Golden State Warriors</td>\n",
       "      <td>Andre Iguodala</td>\n",
       "      <td>Reserve</td>\n",
       "      <td>22.3667</td>\n",
       "      <td>4</td>\n",
       "      <td>8</td>\n",
       "      <td>0.500</td>\n",
       "      <td>3</td>\n",
       "      <td>6</td>\n",
       "      <td>...</td>\n",
       "      <td>2</td>\n",
       "      <td>0</td>\n",
       "      <td>2</td>\n",
       "      <td>2</td>\n",
       "      <td>0</td>\n",
       "      <td>3</td>\n",
       "      <td>11</td>\n",
       "      <td>11.0</td>\n",
       "      <td>2018</td>\n",
       "      <td>Andre Iguodala</td>\n",
       "    </tr>\n",
       "    <tr>\n",
       "      <th>463592</th>\n",
       "      <td>2018-10-16T20:00:00</td>\n",
       "      <td>Boston Celtics</td>\n",
       "      <td>Gordon Hayward</td>\n",
       "      <td>Starter</td>\n",
       "      <td>24.4</td>\n",
       "      <td>4</td>\n",
       "      <td>12</td>\n",
       "      <td>0.333</td>\n",
       "      <td>1</td>\n",
       "      <td>3</td>\n",
       "      <td>...</td>\n",
       "      <td>5</td>\n",
       "      <td>0</td>\n",
       "      <td>4</td>\n",
       "      <td>0</td>\n",
       "      <td>0</td>\n",
       "      <td>1</td>\n",
       "      <td>10</td>\n",
       "      <td>10.0</td>\n",
       "      <td>2019</td>\n",
       "      <td>NaN</td>\n",
       "    </tr>\n",
       "  </tbody>\n",
       "</table>\n",
       "<p>2 rows × 26 columns</p>\n",
       "</div>"
      ],
      "text/plain": [
       "                       date                   team          player     role  \\\n",
       "463591  2018-06-08T21:00:00  Golden State Warriors  Andre Iguodala  Reserve   \n",
       "463592  2018-10-16T20:00:00         Boston Celtics  Gordon Hayward  Starter   \n",
       "\n",
       "             MP  FG  FGA  FG_PCT  FG3  FG3A  ...  TRB  AST  STL  BLK  TOV  PF  \\\n",
       "463591  22.3667   4    8   0.500    3     6  ...    2    0    2    2    0   3   \n",
       "463592     24.4   4   12   0.333    1     3  ...    5    0    4    0    0   1   \n",
       "\n",
       "        PTS  PLUS_MINUS  season         name_ok  \n",
       "463591   11        11.0    2018  Andre Iguodala  \n",
       "463592   10        10.0    2019             NaN  \n",
       "\n",
       "[2 rows x 26 columns]"
      ]
     },
     "execution_count": 348,
     "metadata": {},
     "output_type": "execute_result"
    }
   ],
   "source": [
    "# Comprobamos que se ha ejecutado correctamente hasta el primer valor del año 2019\n",
    "\n",
    "data[463591:463593]"
   ]
  },
  {
   "cell_type": "code",
   "execution_count": 345,
   "metadata": {},
   "outputs": [
    {
     "data": {
      "text/plain": [
       "0.019937790125800273"
      ]
     },
     "execution_count": 345,
     "metadata": {},
     "output_type": "execute_result"
    }
   ],
   "source": [
    "# Sólo un 2% de nuestros datos no han encontrado jugador en nuestro 'database'\n",
    "\n",
    "len(data[(data['season'] < 2019) & (data['name_ok'] == 'not found')]) / len(data[data['season'] < 2019])"
   ]
  },
  {
   "cell_type": "markdown",
   "metadata": {},
   "source": [
    "De nuestras entradas entre 2001 y 2018, sólo un 1,99% no han encontrado su jugador equivalente en nuestro 'database'. Vamos a ver cuáles son los jugadores con mayor número de entradas para ver si somos capaces de encontrarlos manualmente en nuestro 'database':"
   ]
  },
  {
   "cell_type": "code",
   "execution_count": 360,
   "metadata": {},
   "outputs": [
    {
     "data": {
      "text/plain": [
       "Nenê Hilário            958\n",
       "Ömer Aşık               489\n",
       "Didier Ilunga-Mbenga    253\n",
       "JaKarr Sampson          169\n",
       "Dario Šarić             163\n",
       "James Michael McAdoo    131\n",
       "Brandan Wright          115\n",
       "Markel Brown            114\n",
       "Jamaal Tinsley          114\n",
       "Adreian Payne           107\n",
       "James Young             101\n",
       "Kurt Thomas              92\n",
       "Darrun Hilliard          91\n",
       "Nate Wolters             84\n",
       "C.J. Watson              82\n",
       "Lorenzo Brown            79\n",
       "Brandon Davies           78\n",
       "Hollis Thompson          77\n",
       "Cartier Martin           76\n",
       "Phil Pressey             75\n",
       "Name: player, dtype: int64"
      ]
     },
     "execution_count": 360,
     "metadata": {},
     "output_type": "execute_result"
    }
   ],
   "source": [
    "# Vemos cuáles de ellos son los que más intervenciones tienen para intentar buscar su equivalente a mano\n",
    "\n",
    "data[data['name_ok']=='not found']['player'].value_counts().head(20)"
   ]
  },
  {
   "cell_type": "markdown",
   "metadata": {},
   "source": [
    "Aplicamos los cambios a los 3 con más entradas para los cuales tenemos información de salarios en 'database':"
   ]
  },
  {
   "cell_type": "code",
   "execution_count": 378,
   "metadata": {},
   "outputs": [
    {
     "name": "stderr",
     "output_type": "stream",
     "text": [
      "463592it [00:21, 21189.00it/s]\n"
     ]
    }
   ],
   "source": [
    "for i,c in tqdm(data[0:463592].iterrows()):\n",
    "    if c['player'] == 'Nenê Hilário':\n",
    "        data.loc[i, 'name_ok'] = 'Nene'\n",
    "    elif c['player'] == 'Ömer Aşık':\n",
    "        data.loc[i, 'name_ok'] = 'Omer Asik'\n",
    "    elif c['player'] == 'Dario Šarić':\n",
    "        data.loc[i, 'name_ok'] = 'Dario Saric'"
   ]
  },
  {
   "cell_type": "markdown",
   "metadata": {},
   "source": [
    "Vemos como este pequeño cambio nos ha hecho pasar de tener un 1,99% de entradas de jugadores sin identificar a tan sólo un 1,64%:"
   ]
  },
  {
   "cell_type": "code",
   "execution_count": 380,
   "metadata": {},
   "outputs": [
    {
     "data": {
      "text/plain": [
       "0.016464908799116464"
      ]
     },
     "execution_count": 380,
     "metadata": {},
     "output_type": "execute_result"
    }
   ],
   "source": [
    "len(data[(data['season'] < 2019) & (data['name_ok'] == 'not found')]) / len(data[data['season'] < 2019])"
   ]
  },
  {
   "cell_type": "markdown",
   "metadata": {},
   "source": [
    "Ahora cambiamos los nombres de las columnas para que coincidan al hacer el left join de 'database'"
   ]
  },
  {
   "cell_type": "code",
   "execution_count": 385,
   "metadata": {},
   "outputs": [],
   "source": [
    "data.rename(columns = {'season':'season_end', 'name_ok': 'name'}, inplace = True)"
   ]
  },
  {
   "cell_type": "code",
   "execution_count": 386,
   "metadata": {},
   "outputs": [
    {
     "data": {
      "text/html": [
       "<div>\n",
       "<style scoped>\n",
       "    .dataframe tbody tr th:only-of-type {\n",
       "        vertical-align: middle;\n",
       "    }\n",
       "\n",
       "    .dataframe tbody tr th {\n",
       "        vertical-align: top;\n",
       "    }\n",
       "\n",
       "    .dataframe thead th {\n",
       "        text-align: right;\n",
       "    }\n",
       "</style>\n",
       "<table border=\"1\" class=\"dataframe\">\n",
       "  <thead>\n",
       "    <tr style=\"text-align: right;\">\n",
       "      <th></th>\n",
       "      <th>date</th>\n",
       "      <th>team</th>\n",
       "      <th>player</th>\n",
       "      <th>role</th>\n",
       "      <th>MP</th>\n",
       "      <th>FG</th>\n",
       "      <th>FGA</th>\n",
       "      <th>FG_PCT</th>\n",
       "      <th>FG3</th>\n",
       "      <th>FG3A</th>\n",
       "      <th>...</th>\n",
       "      <th>TRB</th>\n",
       "      <th>AST</th>\n",
       "      <th>STL</th>\n",
       "      <th>BLK</th>\n",
       "      <th>TOV</th>\n",
       "      <th>PF</th>\n",
       "      <th>PTS</th>\n",
       "      <th>PLUS_MINUS</th>\n",
       "      <th>season_end</th>\n",
       "      <th>name</th>\n",
       "    </tr>\n",
       "  </thead>\n",
       "  <tbody>\n",
       "    <tr>\n",
       "      <th>0</th>\n",
       "      <td>2000-10-31T19:30:00</td>\n",
       "      <td>Charlotte Hornets</td>\n",
       "      <td>P.J. Brown</td>\n",
       "      <td>Starter</td>\n",
       "      <td>38.6333</td>\n",
       "      <td>5</td>\n",
       "      <td>7</td>\n",
       "      <td>0.714</td>\n",
       "      <td>0</td>\n",
       "      <td>0</td>\n",
       "      <td>...</td>\n",
       "      <td>16</td>\n",
       "      <td>1</td>\n",
       "      <td>1</td>\n",
       "      <td>2</td>\n",
       "      <td>1</td>\n",
       "      <td>2</td>\n",
       "      <td>14</td>\n",
       "      <td>28.0</td>\n",
       "      <td>2001</td>\n",
       "      <td>P.J. Brown</td>\n",
       "    </tr>\n",
       "    <tr>\n",
       "      <th>1</th>\n",
       "      <td>2000-10-31T19:30:00</td>\n",
       "      <td>Orlando Magic</td>\n",
       "      <td>Darrell Armstrong</td>\n",
       "      <td>Starter</td>\n",
       "      <td>35.5833</td>\n",
       "      <td>4</td>\n",
       "      <td>9</td>\n",
       "      <td>0.444</td>\n",
       "      <td>0</td>\n",
       "      <td>1</td>\n",
       "      <td>...</td>\n",
       "      <td>2</td>\n",
       "      <td>3</td>\n",
       "      <td>0</td>\n",
       "      <td>1</td>\n",
       "      <td>3</td>\n",
       "      <td>2</td>\n",
       "      <td>10</td>\n",
       "      <td>10.0</td>\n",
       "      <td>2001</td>\n",
       "      <td>Darrell Armstrong</td>\n",
       "    </tr>\n",
       "  </tbody>\n",
       "</table>\n",
       "<p>2 rows × 26 columns</p>\n",
       "</div>"
      ],
      "text/plain": [
       "                  date               team             player     role  \\\n",
       "0  2000-10-31T19:30:00  Charlotte Hornets         P.J. Brown  Starter   \n",
       "1  2000-10-31T19:30:00      Orlando Magic  Darrell Armstrong  Starter   \n",
       "\n",
       "        MP  FG  FGA  FG_PCT  FG3  FG3A  ...  TRB  AST  STL  BLK  TOV  PF  PTS  \\\n",
       "0  38.6333   5    7   0.714    0     0  ...   16    1    1    2    1   2   14   \n",
       "1  35.5833   4    9   0.444    0     1  ...    2    3    0    1    3   2   10   \n",
       "\n",
       "   PLUS_MINUS  season_end               name  \n",
       "0        28.0        2001         P.J. Brown  \n",
       "1        10.0        2001  Darrell Armstrong  \n",
       "\n",
       "[2 rows x 26 columns]"
      ]
     },
     "execution_count": 386,
     "metadata": {},
     "output_type": "execute_result"
    }
   ],
   "source": [
    "data.head(2)"
   ]
  },
  {
   "cell_type": "code",
   "execution_count": 387,
   "metadata": {},
   "outputs": [
    {
     "data": {
      "text/html": [
       "<div>\n",
       "<style scoped>\n",
       "    .dataframe tbody tr th:only-of-type {\n",
       "        vertical-align: middle;\n",
       "    }\n",
       "\n",
       "    .dataframe tbody tr th {\n",
       "        vertical-align: top;\n",
       "    }\n",
       "\n",
       "    .dataframe thead th {\n",
       "        text-align: right;\n",
       "    }\n",
       "</style>\n",
       "<table border=\"1\" class=\"dataframe\">\n",
       "  <thead>\n",
       "    <tr style=\"text-align: right;\">\n",
       "      <th></th>\n",
       "      <th>league</th>\n",
       "      <th>player_id</th>\n",
       "      <th>salary</th>\n",
       "      <th>season</th>\n",
       "      <th>season_end</th>\n",
       "      <th>season_start</th>\n",
       "      <th>team</th>\n",
       "      <th>birthDate</th>\n",
       "      <th>birthPlace</th>\n",
       "      <th>career_AST</th>\n",
       "      <th>...</th>\n",
       "      <th>draft_pick</th>\n",
       "      <th>draft_round</th>\n",
       "      <th>draft_team</th>\n",
       "      <th>draft_year</th>\n",
       "      <th>height</th>\n",
       "      <th>highSchool</th>\n",
       "      <th>name</th>\n",
       "      <th>position</th>\n",
       "      <th>shoots</th>\n",
       "      <th>weight</th>\n",
       "    </tr>\n",
       "  </thead>\n",
       "  <tbody>\n",
       "    <tr>\n",
       "      <th>0</th>\n",
       "      <td>NBA</td>\n",
       "      <td>abdelal01</td>\n",
       "      <td>395000</td>\n",
       "      <td>1990-91</td>\n",
       "      <td>1991</td>\n",
       "      <td>1990</td>\n",
       "      <td>Portland Trail Blazers</td>\n",
       "      <td>June 24, 1968</td>\n",
       "      <td>Cairo, Egypt</td>\n",
       "      <td>0.3</td>\n",
       "      <td>...</td>\n",
       "      <td>25th overall</td>\n",
       "      <td>1st round</td>\n",
       "      <td>Portland Trail Blazers</td>\n",
       "      <td>1990</td>\n",
       "      <td>6-10</td>\n",
       "      <td>Bloomfield in Bloomfield, New Jersey</td>\n",
       "      <td>Alaa Abdelnaby</td>\n",
       "      <td>Power Forward</td>\n",
       "      <td>Right</td>\n",
       "      <td>240lb</td>\n",
       "    </tr>\n",
       "    <tr>\n",
       "      <th>1</th>\n",
       "      <td>NBA</td>\n",
       "      <td>abdelal01</td>\n",
       "      <td>494000</td>\n",
       "      <td>1991-92</td>\n",
       "      <td>1992</td>\n",
       "      <td>1991</td>\n",
       "      <td>Portland Trail Blazers</td>\n",
       "      <td>June 24, 1968</td>\n",
       "      <td>Cairo, Egypt</td>\n",
       "      <td>0.3</td>\n",
       "      <td>...</td>\n",
       "      <td>25th overall</td>\n",
       "      <td>1st round</td>\n",
       "      <td>Portland Trail Blazers</td>\n",
       "      <td>1990</td>\n",
       "      <td>6-10</td>\n",
       "      <td>Bloomfield in Bloomfield, New Jersey</td>\n",
       "      <td>Alaa Abdelnaby</td>\n",
       "      <td>Power Forward</td>\n",
       "      <td>Right</td>\n",
       "      <td>240lb</td>\n",
       "    </tr>\n",
       "  </tbody>\n",
       "</table>\n",
       "<p>2 rows × 30 columns</p>\n",
       "</div>"
      ],
      "text/plain": [
       "  league  player_id  salary   season  season_end  season_start  \\\n",
       "0    NBA  abdelal01  395000  1990-91        1991          1990   \n",
       "1    NBA  abdelal01  494000  1991-92        1992          1991   \n",
       "\n",
       "                     team      birthDate    birthPlace  career_AST  ...  \\\n",
       "0  Portland Trail Blazers  June 24, 1968  Cairo, Egypt         0.3  ...   \n",
       "1  Portland Trail Blazers  June 24, 1968  Cairo, Egypt         0.3  ...   \n",
       "\n",
       "     draft_pick draft_round              draft_team  draft_year height  \\\n",
       "0  25th overall   1st round  Portland Trail Blazers        1990   6-10   \n",
       "1  25th overall   1st round  Portland Trail Blazers        1990   6-10   \n",
       "\n",
       "                             highSchool            name       position shoots  \\\n",
       "0  Bloomfield in Bloomfield, New Jersey  Alaa Abdelnaby  Power Forward  Right   \n",
       "1  Bloomfield in Bloomfield, New Jersey  Alaa Abdelnaby  Power Forward  Right   \n",
       "\n",
       "  weight  \n",
       "0  240lb  \n",
       "1  240lb  \n",
       "\n",
       "[2 rows x 30 columns]"
      ]
     },
     "execution_count": 387,
     "metadata": {},
     "output_type": "execute_result"
    }
   ],
   "source": [
    "database.head(2)"
   ]
  },
  {
   "cell_type": "markdown",
   "metadata": {},
   "source": [
    "## Scrapping"
   ]
  },
  {
   "cell_type": "code",
   "execution_count": 431,
   "metadata": {},
   "outputs": [],
   "source": [
    "# Intentamos completar la database de los jugadores restantes haciendo web scrapping\n",
    "\n",
    "# Creamos la tabla auxiliar 'scrap'\n",
    "\n",
    "scrap = data[data['season_end'] > 2018][['player', 'season_end']].drop_duplicates()"
   ]
  },
  {
   "cell_type": "code",
   "execution_count": 435,
   "metadata": {},
   "outputs": [
    {
     "data": {
      "text/html": [
       "<div>\n",
       "<style scoped>\n",
       "    .dataframe tbody tr th:only-of-type {\n",
       "        vertical-align: middle;\n",
       "    }\n",
       "\n",
       "    .dataframe tbody tr th {\n",
       "        vertical-align: top;\n",
       "    }\n",
       "\n",
       "    .dataframe thead th {\n",
       "        text-align: right;\n",
       "    }\n",
       "</style>\n",
       "<table border=\"1\" class=\"dataframe\">\n",
       "  <thead>\n",
       "    <tr style=\"text-align: right;\">\n",
       "      <th></th>\n",
       "      <th>player</th>\n",
       "      <th>season_end</th>\n",
       "    </tr>\n",
       "  </thead>\n",
       "  <tbody>\n",
       "    <tr>\n",
       "      <th>463592</th>\n",
       "      <td>Gordon Hayward</td>\n",
       "      <td>2019</td>\n",
       "    </tr>\n",
       "    <tr>\n",
       "      <th>463593</th>\n",
       "      <td>Marcus Smart</td>\n",
       "      <td>2019</td>\n",
       "    </tr>\n",
       "    <tr>\n",
       "      <th>463594</th>\n",
       "      <td>Terry Rozier</td>\n",
       "      <td>2019</td>\n",
       "    </tr>\n",
       "  </tbody>\n",
       "</table>\n",
       "</div>"
      ],
      "text/plain": [
       "                player  season_end\n",
       "463592  Gordon Hayward        2019\n",
       "463593    Marcus Smart        2019\n",
       "463594    Terry Rozier        2019"
      ]
     },
     "execution_count": 435,
     "metadata": {},
     "output_type": "execute_result"
    }
   ],
   "source": [
    "# Habrá que sacar: ['salary', 'birthDate', 'height', 'position', 'shoots', 'weight']\n",
    "\n",
    "scrap.head(3)"
   ]
  },
  {
   "cell_type": "code",
   "execution_count": 1054,
   "metadata": {},
   "outputs": [],
   "source": [
    "driver = webdriver.Firefox()"
   ]
  },
  {
   "cell_type": "code",
   "execution_count": 1055,
   "metadata": {},
   "outputs": [],
   "source": [
    "driver.get('https://www.basketball-reference.com/')"
   ]
  },
  {
   "cell_type": "code",
   "execution_count": 1056,
   "metadata": {},
   "outputs": [],
   "source": [
    "# Aceptamos cookies para no tener que volver a hacerlo al iterar\n",
    "driver.find_element_by_class_name('qc-cmp2-summary-buttons').find_elements_by_tag_name('button')[2].click()"
   ]
  },
  {
   "cell_type": "code",
   "execution_count": 1057,
   "metadata": {},
   "outputs": [],
   "source": [
    "# Enviamos cualquier jugador\n",
    "driver.find_element_by_class_name('ac-wrapper').find_elements_by_tag_name('input')[1].send_keys('Michael Jordan')"
   ]
  },
  {
   "cell_type": "code",
   "execution_count": 1058,
   "metadata": {},
   "outputs": [],
   "source": [
    "# Enter\n",
    "driver.find_element_by_class_name('ac-wrapper').find_elements_by_tag_name('input')[1].send_keys(Keys.RETURN)"
   ]
  },
  {
   "cell_type": "code",
   "execution_count": 1059,
   "metadata": {},
   "outputs": [],
   "source": [
    "try:\n",
    "    driver.find_element_by_class_name('search-item-name').find_element_by_tag_name('a').click()\n",
    "except:\n",
    "    pass"
   ]
  },
  {
   "cell_type": "code",
   "execution_count": 1060,
   "metadata": {},
   "outputs": [],
   "source": [
    "# Desplegamos una vez los salarios para no tener que volver a hacerlo al iterar\n",
    "driver.find_element_by_id('meta_more_button').click()"
   ]
  },
  {
   "cell_type": "code",
   "execution_count": 1061,
   "metadata": {},
   "outputs": [],
   "source": [
    "# Enviamos cualquier otro jugador\n",
    "driver.find_element_by_class_name('ac-wrapper').find_elements_by_tag_name('input')[1].send_keys('Pau Gasol')"
   ]
  },
  {
   "cell_type": "code",
   "execution_count": 1062,
   "metadata": {},
   "outputs": [],
   "source": [
    "# Enter\n",
    "driver.find_element_by_class_name('ac-wrapper').find_elements_by_tag_name('input')[1].send_keys(Keys.RETURN)"
   ]
  },
  {
   "cell_type": "code",
   "execution_count": 1063,
   "metadata": {},
   "outputs": [],
   "source": [
    "# Volvemos a aceptar\n",
    "driver.find_element_by_class_name('search-item-name').find_element_by_tag_name('a').click()"
   ]
  },
  {
   "cell_type": "code",
   "execution_count": 1064,
   "metadata": {},
   "outputs": [
    {
     "name": "stderr",
     "output_type": "stream",
     "text": [
      "248it [19:51,  4.80s/it]\n"
     ]
    }
   ],
   "source": [
    "# Ahora ya podemos iterar evitándonos los pasos de aceptar cookies y desplegar los salarios\n",
    "for i,c in tqdm(scrap.iterrows()):\n",
    "  \n",
    "    driver.find_element_by_class_name('ac-wrapper').find_elements_by_tag_name('input')[1].send_keys(f\"{c['player']}\")\n",
    "    driver.implicitly_wait(5)\n",
    "    driver.find_element_by_class_name('ac-wrapper').find_elements_by_tag_name('input')[1].send_keys(Keys.RETURN)\n",
    "    driver.implicitly_wait(5)\n",
    "    \n",
    "    try:\n",
    "        driver.find_element_by_class_name('search-item-name').find_element_by_tag_name('a').click()\n",
    "    except:\n",
    "        pass\n",
    "\n",
    "    driver.implicitly_wait(5)\n",
    "    \n",
    "    # Position\n",
    "    try:\n",
    "        scrap.loc[i, 'position'] = re.findall('Position: (\\D*) ▪ ', driver.find_element_by_id('meta').text)[0]\n",
    "    except:\n",
    "        pass\n",
    "    \n",
    "    # Shoots\n",
    "    try:\n",
    "        scrap.loc[i, 'shoots'] = re.findall('Shoots: (\\D*)\\\\n', driver.find_element_by_id('meta').text)[0]\n",
    "    except:\n",
    "        pass\n",
    "    \n",
    "    # Height\n",
    "    try:\n",
    "        scrap.loc[i, 'height'] = re.findall('\\\\n(\\d*\\-\\d*), \\d*lb', driver.find_element_by_id('meta').text)[0]\n",
    "    except:\n",
    "        pass\n",
    "    \n",
    "    # Weight\n",
    "    try:\n",
    "        scrap.loc[i, 'weight'] = re.findall('\\\\n\\d*\\-\\d*, (\\d*lb)', driver.find_element_by_id('meta').text)[0]\n",
    "    except:\n",
    "        pass\n",
    "    \n",
    "    # Birth date\n",
    "    try:\n",
    "        scrap.loc[i, 'birthDate'] = driver.find_element_by_id('necro-birth').text\n",
    "    except:\n",
    "        pass\n",
    "    \n",
    "    # Salary\n",
    "    if c['season_end'] == 2019:\n",
    "        try:\n",
    "            scrap.loc[i, 'salary'] = float(re.findall('2018-19[^\\$]*\\$(\\S*)\\\\n', driver.find_element_by_id('all_salaries').text)[0].replace(',',''))\n",
    "        except:\n",
    "            pass\n",
    "        \n",
    "    elif c['season_end'] == 2020:\n",
    "        try:\n",
    "            scrap.loc[i, 'salary'] = float(re.findall('2019-20[^\\$]*\\$(\\S*)\\\\n', driver.find_element_by_id('all_salaries').text)[0].replace(',',''))\n",
    "        except:\n",
    "            pass\n",
    "        \n",
    "    elif c['season_end'] == 2021:\n",
    "        try:\n",
    "            scrap.loc[i, 'salary'] = float(driver.find_element_by_id('div_contract').find_elements_by_tag_name('td')[1].text.replace('$','').replace(',',''))\n",
    "        except:\n",
    "            pass\n",
    "        \n",
    "    driver.implicitly_wait(5)\n",
    "    \n",
    "driver.quit()"
   ]
  },
  {
   "cell_type": "code",
   "execution_count": 1065,
   "metadata": {},
   "outputs": [
    {
     "data": {
      "text/html": [
       "<div>\n",
       "<style scoped>\n",
       "    .dataframe tbody tr th:only-of-type {\n",
       "        vertical-align: middle;\n",
       "    }\n",
       "\n",
       "    .dataframe tbody tr th {\n",
       "        vertical-align: top;\n",
       "    }\n",
       "\n",
       "    .dataframe thead th {\n",
       "        text-align: right;\n",
       "    }\n",
       "</style>\n",
       "<table border=\"1\" class=\"dataframe\">\n",
       "  <thead>\n",
       "    <tr style=\"text-align: right;\">\n",
       "      <th></th>\n",
       "      <th>player</th>\n",
       "      <th>season_end</th>\n",
       "      <th>position</th>\n",
       "      <th>shoots</th>\n",
       "      <th>height</th>\n",
       "      <th>weight</th>\n",
       "      <th>birthDate</th>\n",
       "      <th>salary</th>\n",
       "    </tr>\n",
       "  </thead>\n",
       "  <tbody>\n",
       "    <tr>\n",
       "      <th>530573</th>\n",
       "      <td>Jeremiah Martin</td>\n",
       "      <td>2021</td>\n",
       "      <td>Point Guard</td>\n",
       "      <td>Left</td>\n",
       "      <td>6-3</td>\n",
       "      <td>185lb</td>\n",
       "      <td>June 19, 1996</td>\n",
       "      <td>NaN</td>\n",
       "    </tr>\n",
       "    <tr>\n",
       "      <th>530887</th>\n",
       "      <td>Gabriel Deck</td>\n",
       "      <td>2021</td>\n",
       "      <td>Power Forward</td>\n",
       "      <td>Right</td>\n",
       "      <td>6-8</td>\n",
       "      <td>232lb</td>\n",
       "      <td>February 8, 1995</td>\n",
       "      <td>3870000.0</td>\n",
       "    </tr>\n",
       "    <tr>\n",
       "      <th>531827</th>\n",
       "      <td>Anderson Varejão</td>\n",
       "      <td>2021</td>\n",
       "      <td>Center and Power Forward</td>\n",
       "      <td>Right</td>\n",
       "      <td>6-10</td>\n",
       "      <td>273lb</td>\n",
       "      <td>September 28, 1982</td>\n",
       "      <td>1913345.0</td>\n",
       "    </tr>\n",
       "    <tr>\n",
       "      <th>531842</th>\n",
       "      <td>Louis King</td>\n",
       "      <td>2021</td>\n",
       "      <td>Small Forward</td>\n",
       "      <td>Right</td>\n",
       "      <td>6-7</td>\n",
       "      <td>205lb</td>\n",
       "      <td>April 6, 1999</td>\n",
       "      <td>NaN</td>\n",
       "    </tr>\n",
       "    <tr>\n",
       "      <th>532216</th>\n",
       "      <td>Khyri Thomas</td>\n",
       "      <td>2021</td>\n",
       "      <td>Shooting Guard</td>\n",
       "      <td>Right</td>\n",
       "      <td>6-3</td>\n",
       "      <td>210lb</td>\n",
       "      <td>May 8, 1996</td>\n",
       "      <td>744684.0</td>\n",
       "    </tr>\n",
       "    <tr>\n",
       "      <th>532770</th>\n",
       "      <td>Cameron Oliver</td>\n",
       "      <td>2021</td>\n",
       "      <td>Small Forward</td>\n",
       "      <td>Right</td>\n",
       "      <td>6-8</td>\n",
       "      <td>239lb</td>\n",
       "      <td>July 11, 1996</td>\n",
       "      <td>NaN</td>\n",
       "    </tr>\n",
       "    <tr>\n",
       "      <th>532857</th>\n",
       "      <td>Jay Scrubb</td>\n",
       "      <td>2021</td>\n",
       "      <td>Shooting Guard</td>\n",
       "      <td>Left</td>\n",
       "      <td>6-5</td>\n",
       "      <td>220lb</td>\n",
       "      <td>September 1, 2000</td>\n",
       "      <td>NaN</td>\n",
       "    </tr>\n",
       "    <tr>\n",
       "      <th>533096</th>\n",
       "      <td>Marcos Louzada Silva</td>\n",
       "      <td>2021</td>\n",
       "      <td>Small Forward</td>\n",
       "      <td>Right</td>\n",
       "      <td>6-5</td>\n",
       "      <td>188lb</td>\n",
       "      <td>February 7, 1999</td>\n",
       "      <td>123056.0</td>\n",
       "    </tr>\n",
       "    <tr>\n",
       "      <th>533213</th>\n",
       "      <td>Udonis Haslem</td>\n",
       "      <td>2021</td>\n",
       "      <td>Power Forward and Center</td>\n",
       "      <td>Right</td>\n",
       "      <td>6-8</td>\n",
       "      <td>235lb</td>\n",
       "      <td>June 9, 1980</td>\n",
       "      <td>2564753.0</td>\n",
       "    </tr>\n",
       "    <tr>\n",
       "      <th>533844</th>\n",
       "      <td>Elijah Bryant</td>\n",
       "      <td>2021</td>\n",
       "      <td>Shooting Guard</td>\n",
       "      <td>Right</td>\n",
       "      <td>6-5</td>\n",
       "      <td>210lb</td>\n",
       "      <td>April 19, 1995</td>\n",
       "      <td>24611.0</td>\n",
       "    </tr>\n",
       "  </tbody>\n",
       "</table>\n",
       "</div>"
      ],
      "text/plain": [
       "                      player  season_end                  position shoots  \\\n",
       "530573       Jeremiah Martin        2021               Point Guard   Left   \n",
       "530887          Gabriel Deck        2021             Power Forward  Right   \n",
       "531827      Anderson Varejão        2021  Center and Power Forward  Right   \n",
       "531842            Louis King        2021             Small Forward  Right   \n",
       "532216          Khyri Thomas        2021            Shooting Guard  Right   \n",
       "532770        Cameron Oliver        2021             Small Forward  Right   \n",
       "532857            Jay Scrubb        2021            Shooting Guard   Left   \n",
       "533096  Marcos Louzada Silva        2021             Small Forward  Right   \n",
       "533213         Udonis Haslem        2021  Power Forward and Center  Right   \n",
       "533844         Elijah Bryant        2021            Shooting Guard  Right   \n",
       "\n",
       "       height weight           birthDate     salary  \n",
       "530573    6-3  185lb       June 19, 1996        NaN  \n",
       "530887    6-8  232lb    February 8, 1995  3870000.0  \n",
       "531827   6-10  273lb  September 28, 1982  1913345.0  \n",
       "531842    6-7  205lb       April 6, 1999        NaN  \n",
       "532216    6-3  210lb         May 8, 1996   744684.0  \n",
       "532770    6-8  239lb       July 11, 1996        NaN  \n",
       "532857    6-5  220lb   September 1, 2000        NaN  \n",
       "533096    6-5  188lb    February 7, 1999   123056.0  \n",
       "533213    6-8  235lb        June 9, 1980  2564753.0  \n",
       "533844    6-5  210lb      April 19, 1995    24611.0  "
      ]
     },
     "execution_count": 1065,
     "metadata": {},
     "output_type": "execute_result"
    }
   ],
   "source": [
    "scrap[-10:]"
   ]
  },
  {
   "cell_type": "code",
   "execution_count": 1066,
   "metadata": {},
   "outputs": [
    {
     "data": {
      "text/plain": [
       "Index(['league', 'player_id', 'salary', 'season', 'season_end', 'season_start',\n",
       "       'team', 'birthDate', 'birthPlace', 'career_AST', 'career_FG%',\n",
       "       'career_FG3%', 'career_FT%', 'career_G', 'career_PER', 'career_PTS',\n",
       "       'career_TRB', 'career_WS', 'career_eFG%', 'college', 'draft_pick',\n",
       "       'draft_round', 'draft_team', 'draft_year', 'height', 'highSchool',\n",
       "       'name', 'position', 'shoots', 'weight'],\n",
       "      dtype='object')"
      ]
     },
     "execution_count": 1066,
     "metadata": {},
     "output_type": "execute_result"
    }
   ],
   "source": [
    "database.columns"
   ]
  },
  {
   "cell_type": "code",
   "execution_count": 1069,
   "metadata": {},
   "outputs": [
    {
     "data": {
      "text/plain": [
       "Index(['date', 'team', 'player', 'role', 'MP', 'FG', 'FGA', 'FG_PCT', 'FG3',\n",
       "       'FG3A', 'FG3_PCT', 'FT', 'FTA', 'FT_PCT', 'ORB', 'DRB', 'TRB', 'AST',\n",
       "       'STL', 'BLK', 'TOV', 'PF', 'PTS', 'PLUS_MINUS', 'season_end', 'name'],\n",
       "      dtype='object')"
      ]
     },
     "execution_count": 1069,
     "metadata": {},
     "output_type": "execute_result"
    }
   ],
   "source": [
    "data.columns"
   ]
  },
  {
   "cell_type": "markdown",
   "metadata": {},
   "source": [
    "### Corregimos Tim Hardaway Jr. por Tim Hardaway"
   ]
  },
  {
   "cell_type": "code",
   "execution_count": 1081,
   "metadata": {},
   "outputs": [
    {
     "data": {
      "text/html": [
       "<div>\n",
       "<style scoped>\n",
       "    .dataframe tbody tr th:only-of-type {\n",
       "        vertical-align: middle;\n",
       "    }\n",
       "\n",
       "    .dataframe tbody tr th {\n",
       "        vertical-align: top;\n",
       "    }\n",
       "\n",
       "    .dataframe thead th {\n",
       "        text-align: right;\n",
       "    }\n",
       "</style>\n",
       "<table border=\"1\" class=\"dataframe\">\n",
       "  <thead>\n",
       "    <tr style=\"text-align: right;\">\n",
       "      <th></th>\n",
       "      <th>date</th>\n",
       "      <th>team</th>\n",
       "      <th>player</th>\n",
       "      <th>role</th>\n",
       "      <th>MP</th>\n",
       "      <th>FG</th>\n",
       "      <th>FGA</th>\n",
       "      <th>FG_PCT</th>\n",
       "      <th>FG3</th>\n",
       "      <th>FG3A</th>\n",
       "      <th>...</th>\n",
       "      <th>TRB</th>\n",
       "      <th>AST</th>\n",
       "      <th>STL</th>\n",
       "      <th>BLK</th>\n",
       "      <th>TOV</th>\n",
       "      <th>PF</th>\n",
       "      <th>PTS</th>\n",
       "      <th>PLUS_MINUS</th>\n",
       "      <th>season_end</th>\n",
       "      <th>name</th>\n",
       "    </tr>\n",
       "  </thead>\n",
       "  <tbody>\n",
       "    <tr>\n",
       "      <th>387</th>\n",
       "      <td>2000-11-01T20:00:00</td>\n",
       "      <td>Miami Heat</td>\n",
       "      <td>Tim Hardaway</td>\n",
       "      <td>Starter</td>\n",
       "      <td>25.4167</td>\n",
       "      <td>6</td>\n",
       "      <td>12</td>\n",
       "      <td>0.500</td>\n",
       "      <td>3</td>\n",
       "      <td>6</td>\n",
       "      <td>...</td>\n",
       "      <td>2</td>\n",
       "      <td>7</td>\n",
       "      <td>2</td>\n",
       "      <td>0</td>\n",
       "      <td>1</td>\n",
       "      <td>0</td>\n",
       "      <td>17</td>\n",
       "      <td>32.0</td>\n",
       "      <td>2001</td>\n",
       "      <td>Tim Hardaway</td>\n",
       "    </tr>\n",
       "    <tr>\n",
       "      <th>630</th>\n",
       "      <td>2000-11-03T19:30:00</td>\n",
       "      <td>Miami Heat</td>\n",
       "      <td>Tim Hardaway</td>\n",
       "      <td>Starter</td>\n",
       "      <td>38.6333</td>\n",
       "      <td>5</td>\n",
       "      <td>13</td>\n",
       "      <td>0.385</td>\n",
       "      <td>2</td>\n",
       "      <td>7</td>\n",
       "      <td>...</td>\n",
       "      <td>5</td>\n",
       "      <td>5</td>\n",
       "      <td>1</td>\n",
       "      <td>1</td>\n",
       "      <td>4</td>\n",
       "      <td>3</td>\n",
       "      <td>15</td>\n",
       "      <td>1.0</td>\n",
       "      <td>2001</td>\n",
       "      <td>Tim Hardaway</td>\n",
       "    </tr>\n",
       "    <tr>\n",
       "      <th>792</th>\n",
       "      <td>2000-11-04T19:30:00</td>\n",
       "      <td>Miami Heat</td>\n",
       "      <td>Tim Hardaway</td>\n",
       "      <td>Starter</td>\n",
       "      <td>38.6333</td>\n",
       "      <td>8</td>\n",
       "      <td>16</td>\n",
       "      <td>0.500</td>\n",
       "      <td>3</td>\n",
       "      <td>7</td>\n",
       "      <td>...</td>\n",
       "      <td>5</td>\n",
       "      <td>11</td>\n",
       "      <td>1</td>\n",
       "      <td>0</td>\n",
       "      <td>2</td>\n",
       "      <td>2</td>\n",
       "      <td>23</td>\n",
       "      <td>0.0</td>\n",
       "      <td>2001</td>\n",
       "      <td>Tim Hardaway</td>\n",
       "    </tr>\n",
       "    <tr>\n",
       "      <th>1338</th>\n",
       "      <td>2000-11-08T19:30:00</td>\n",
       "      <td>Miami Heat</td>\n",
       "      <td>Tim Hardaway</td>\n",
       "      <td>Starter</td>\n",
       "      <td>34.5667</td>\n",
       "      <td>3</td>\n",
       "      <td>11</td>\n",
       "      <td>0.273</td>\n",
       "      <td>0</td>\n",
       "      <td>5</td>\n",
       "      <td>...</td>\n",
       "      <td>3</td>\n",
       "      <td>6</td>\n",
       "      <td>0</td>\n",
       "      <td>0</td>\n",
       "      <td>1</td>\n",
       "      <td>1</td>\n",
       "      <td>6</td>\n",
       "      <td>4.0</td>\n",
       "      <td>2001</td>\n",
       "      <td>Tim Hardaway</td>\n",
       "    </tr>\n",
       "    <tr>\n",
       "      <th>1719</th>\n",
       "      <td>2000-11-10T21:00:00</td>\n",
       "      <td>Miami Heat</td>\n",
       "      <td>Tim Hardaway</td>\n",
       "      <td>Starter</td>\n",
       "      <td>31.5167</td>\n",
       "      <td>8</td>\n",
       "      <td>14</td>\n",
       "      <td>0.571</td>\n",
       "      <td>1</td>\n",
       "      <td>4</td>\n",
       "      <td>...</td>\n",
       "      <td>2</td>\n",
       "      <td>7</td>\n",
       "      <td>2</td>\n",
       "      <td>0</td>\n",
       "      <td>4</td>\n",
       "      <td>3</td>\n",
       "      <td>17</td>\n",
       "      <td>6.0</td>\n",
       "      <td>2001</td>\n",
       "      <td>Tim Hardaway</td>\n",
       "    </tr>\n",
       "  </tbody>\n",
       "</table>\n",
       "<p>5 rows × 26 columns</p>\n",
       "</div>"
      ],
      "text/plain": [
       "                     date        team        player     role       MP  FG  \\\n",
       "387   2000-11-01T20:00:00  Miami Heat  Tim Hardaway  Starter  25.4167   6   \n",
       "630   2000-11-03T19:30:00  Miami Heat  Tim Hardaway  Starter  38.6333   5   \n",
       "792   2000-11-04T19:30:00  Miami Heat  Tim Hardaway  Starter  38.6333   8   \n",
       "1338  2000-11-08T19:30:00  Miami Heat  Tim Hardaway  Starter  34.5667   3   \n",
       "1719  2000-11-10T21:00:00  Miami Heat  Tim Hardaway  Starter  31.5167   8   \n",
       "\n",
       "      FGA  FG_PCT  FG3  FG3A  ...  TRB  AST  STL  BLK  TOV  PF  PTS  \\\n",
       "387    12   0.500    3     6  ...    2    7    2    0    1   0   17   \n",
       "630    13   0.385    2     7  ...    5    5    1    1    4   3   15   \n",
       "792    16   0.500    3     7  ...    5   11    1    0    2   2   23   \n",
       "1338   11   0.273    0     5  ...    3    6    0    0    1   1    6   \n",
       "1719   14   0.571    1     4  ...    2    7    2    0    4   3   17   \n",
       "\n",
       "      PLUS_MINUS  season_end          name  \n",
       "387         32.0        2001  Tim Hardaway  \n",
       "630          1.0        2001  Tim Hardaway  \n",
       "792          0.0        2001  Tim Hardaway  \n",
       "1338         4.0        2001  Tim Hardaway  \n",
       "1719         6.0        2001  Tim Hardaway  \n",
       "\n",
       "[5 rows x 26 columns]"
      ]
     },
     "execution_count": 1081,
     "metadata": {},
     "output_type": "execute_result"
    }
   ],
   "source": [
    "data[(data['player'] == 'Tim Hardaway') & (data['season_end'] < 2008)].head()"
   ]
  },
  {
   "cell_type": "code",
   "execution_count": 1082,
   "metadata": {},
   "outputs": [
    {
     "data": {
      "text/html": [
       "<div>\n",
       "<style scoped>\n",
       "    .dataframe tbody tr th:only-of-type {\n",
       "        vertical-align: middle;\n",
       "    }\n",
       "\n",
       "    .dataframe tbody tr th {\n",
       "        vertical-align: top;\n",
       "    }\n",
       "\n",
       "    .dataframe thead th {\n",
       "        text-align: right;\n",
       "    }\n",
       "</style>\n",
       "<table border=\"1\" class=\"dataframe\">\n",
       "  <thead>\n",
       "    <tr style=\"text-align: right;\">\n",
       "      <th></th>\n",
       "      <th>date</th>\n",
       "      <th>team</th>\n",
       "      <th>player</th>\n",
       "      <th>role</th>\n",
       "      <th>MP</th>\n",
       "      <th>FG</th>\n",
       "      <th>FGA</th>\n",
       "      <th>FG_PCT</th>\n",
       "      <th>FG3</th>\n",
       "      <th>FG3A</th>\n",
       "      <th>...</th>\n",
       "      <th>TRB</th>\n",
       "      <th>AST</th>\n",
       "      <th>STL</th>\n",
       "      <th>BLK</th>\n",
       "      <th>TOV</th>\n",
       "      <th>PF</th>\n",
       "      <th>PTS</th>\n",
       "      <th>PLUS_MINUS</th>\n",
       "      <th>season_end</th>\n",
       "      <th>name</th>\n",
       "    </tr>\n",
       "  </thead>\n",
       "  <tbody>\n",
       "    <tr>\n",
       "      <th>329443</th>\n",
       "      <td>2013-10-30T19:30:00</td>\n",
       "      <td>New York Knicks</td>\n",
       "      <td>Tim Hardaway</td>\n",
       "      <td>Reserve</td>\n",
       "      <td>15.25</td>\n",
       "      <td>2</td>\n",
       "      <td>2</td>\n",
       "      <td>1.000</td>\n",
       "      <td>1</td>\n",
       "      <td>1</td>\n",
       "      <td>...</td>\n",
       "      <td>0</td>\n",
       "      <td>2</td>\n",
       "      <td>0</td>\n",
       "      <td>0</td>\n",
       "      <td>0</td>\n",
       "      <td>2</td>\n",
       "      <td>5</td>\n",
       "      <td>0.0</td>\n",
       "      <td>2014</td>\n",
       "      <td>Tim Hardaway Jr.</td>\n",
       "    </tr>\n",
       "    <tr>\n",
       "      <th>329681</th>\n",
       "      <td>2013-10-31T20:00:00</td>\n",
       "      <td>New York Knicks</td>\n",
       "      <td>Tim Hardaway</td>\n",
       "      <td>Reserve</td>\n",
       "      <td>26.4333</td>\n",
       "      <td>4</td>\n",
       "      <td>13</td>\n",
       "      <td>0.308</td>\n",
       "      <td>2</td>\n",
       "      <td>6</td>\n",
       "      <td>...</td>\n",
       "      <td>3</td>\n",
       "      <td>0</td>\n",
       "      <td>0</td>\n",
       "      <td>0</td>\n",
       "      <td>0</td>\n",
       "      <td>4</td>\n",
       "      <td>10</td>\n",
       "      <td>7.0</td>\n",
       "      <td>2014</td>\n",
       "      <td>Tim Hardaway Jr.</td>\n",
       "    </tr>\n",
       "    <tr>\n",
       "      <th>330249</th>\n",
       "      <td>2013-11-03T19:30:00</td>\n",
       "      <td>New York Knicks</td>\n",
       "      <td>Tim Hardaway</td>\n",
       "      <td>Reserve</td>\n",
       "      <td>24.4</td>\n",
       "      <td>3</td>\n",
       "      <td>12</td>\n",
       "      <td>0.250</td>\n",
       "      <td>0</td>\n",
       "      <td>7</td>\n",
       "      <td>...</td>\n",
       "      <td>1</td>\n",
       "      <td>1</td>\n",
       "      <td>0</td>\n",
       "      <td>0</td>\n",
       "      <td>1</td>\n",
       "      <td>3</td>\n",
       "      <td>6</td>\n",
       "      <td>-7.0</td>\n",
       "      <td>2014</td>\n",
       "      <td>Tim Hardaway Jr.</td>\n",
       "    </tr>\n",
       "    <tr>\n",
       "      <th>330437</th>\n",
       "      <td>2013-11-05T19:30:00</td>\n",
       "      <td>New York Knicks</td>\n",
       "      <td>Tim Hardaway</td>\n",
       "      <td>Reserve</td>\n",
       "      <td>11.1833</td>\n",
       "      <td>2</td>\n",
       "      <td>7</td>\n",
       "      <td>0.286</td>\n",
       "      <td>0</td>\n",
       "      <td>4</td>\n",
       "      <td>...</td>\n",
       "      <td>1</td>\n",
       "      <td>1</td>\n",
       "      <td>0</td>\n",
       "      <td>0</td>\n",
       "      <td>0</td>\n",
       "      <td>1</td>\n",
       "      <td>4</td>\n",
       "      <td>-9.0</td>\n",
       "      <td>2014</td>\n",
       "      <td>Tim Hardaway Jr.</td>\n",
       "    </tr>\n",
       "    <tr>\n",
       "      <th>330853</th>\n",
       "      <td>2013-11-08T19:00:00</td>\n",
       "      <td>New York Knicks</td>\n",
       "      <td>Tim Hardaway</td>\n",
       "      <td>Reserve</td>\n",
       "      <td>13.2167</td>\n",
       "      <td>2</td>\n",
       "      <td>4</td>\n",
       "      <td>0.500</td>\n",
       "      <td>1</td>\n",
       "      <td>2</td>\n",
       "      <td>...</td>\n",
       "      <td>0</td>\n",
       "      <td>0</td>\n",
       "      <td>0</td>\n",
       "      <td>0</td>\n",
       "      <td>2</td>\n",
       "      <td>1</td>\n",
       "      <td>5</td>\n",
       "      <td>-1.0</td>\n",
       "      <td>2014</td>\n",
       "      <td>Tim Hardaway Jr.</td>\n",
       "    </tr>\n",
       "  </tbody>\n",
       "</table>\n",
       "<p>5 rows × 26 columns</p>\n",
       "</div>"
      ],
      "text/plain": [
       "                       date             team        player     role       MP  \\\n",
       "329443  2013-10-30T19:30:00  New York Knicks  Tim Hardaway  Reserve    15.25   \n",
       "329681  2013-10-31T20:00:00  New York Knicks  Tim Hardaway  Reserve  26.4333   \n",
       "330249  2013-11-03T19:30:00  New York Knicks  Tim Hardaway  Reserve     24.4   \n",
       "330437  2013-11-05T19:30:00  New York Knicks  Tim Hardaway  Reserve  11.1833   \n",
       "330853  2013-11-08T19:00:00  New York Knicks  Tim Hardaway  Reserve  13.2167   \n",
       "\n",
       "        FG  FGA  FG_PCT  FG3  FG3A  ...  TRB  AST  STL  BLK  TOV  PF  PTS  \\\n",
       "329443   2    2   1.000    1     1  ...    0    2    0    0    0   2    5   \n",
       "329681   4   13   0.308    2     6  ...    3    0    0    0    0   4   10   \n",
       "330249   3   12   0.250    0     7  ...    1    1    0    0    1   3    6   \n",
       "330437   2    7   0.286    0     4  ...    1    1    0    0    0   1    4   \n",
       "330853   2    4   0.500    1     2  ...    0    0    0    0    2   1    5   \n",
       "\n",
       "        PLUS_MINUS  season_end              name  \n",
       "329443         0.0        2014  Tim Hardaway Jr.  \n",
       "329681         7.0        2014  Tim Hardaway Jr.  \n",
       "330249        -7.0        2014  Tim Hardaway Jr.  \n",
       "330437        -9.0        2014  Tim Hardaway Jr.  \n",
       "330853        -1.0        2014  Tim Hardaway Jr.  \n",
       "\n",
       "[5 rows x 26 columns]"
      ]
     },
     "execution_count": 1082,
     "metadata": {},
     "output_type": "execute_result"
    }
   ],
   "source": [
    "data[(data['player'] == 'Tim Hardaway') & (data['season_end'] > 2008)].head()"
   ]
  },
  {
   "cell_type": "code",
   "execution_count": 1084,
   "metadata": {},
   "outputs": [],
   "source": [
    "for i,c in data.iterrows():\n",
    "    if (c['season_end'] > 2008) and (c['player'] == 'Tim Hardaway'):\n",
    "        data.loc[i, 'player'] = 'Tim Hardaway Jr.'"
   ]
  },
  {
   "cell_type": "code",
   "execution_count": 1044,
   "metadata": {},
   "outputs": [
    {
     "data": {
      "text/html": [
       "<div>\n",
       "<style scoped>\n",
       "    .dataframe tbody tr th:only-of-type {\n",
       "        vertical-align: middle;\n",
       "    }\n",
       "\n",
       "    .dataframe tbody tr th {\n",
       "        vertical-align: top;\n",
       "    }\n",
       "\n",
       "    .dataframe thead th {\n",
       "        text-align: right;\n",
       "    }\n",
       "</style>\n",
       "<table border=\"1\" class=\"dataframe\">\n",
       "  <thead>\n",
       "    <tr style=\"text-align: right;\">\n",
       "      <th></th>\n",
       "      <th>player</th>\n",
       "      <th>season_end</th>\n",
       "      <th>position</th>\n",
       "      <th>shoots</th>\n",
       "      <th>height</th>\n",
       "      <th>weight</th>\n",
       "      <th>birthDate</th>\n",
       "      <th>salary</th>\n",
       "    </tr>\n",
       "  </thead>\n",
       "  <tbody>\n",
       "    <tr>\n",
       "      <th>463730</th>\n",
       "      <td>Tim Hardaway</td>\n",
       "      <td>2019</td>\n",
       "      <td>Point Guard</td>\n",
       "      <td>Right</td>\n",
       "      <td>6-0</td>\n",
       "      <td>175lb</td>\n",
       "      <td>September 1, 1966</td>\n",
       "      <td>NaN</td>\n",
       "    </tr>\n",
       "    <tr>\n",
       "      <th>490570</th>\n",
       "      <td>Tim Hardaway</td>\n",
       "      <td>2020</td>\n",
       "      <td>Point Guard</td>\n",
       "      <td>Right</td>\n",
       "      <td>6-0</td>\n",
       "      <td>175lb</td>\n",
       "      <td>September 1, 1966</td>\n",
       "      <td>NaN</td>\n",
       "    </tr>\n",
       "    <tr>\n",
       "      <th>511187</th>\n",
       "      <td>Tim Hardaway</td>\n",
       "      <td>2021</td>\n",
       "      <td>Center and Power Forward</td>\n",
       "      <td>Right</td>\n",
       "      <td>6-10</td>\n",
       "      <td>240lb</td>\n",
       "      <td>July 20, 1991</td>\n",
       "      <td>10185185.0</td>\n",
       "    </tr>\n",
       "  </tbody>\n",
       "</table>\n",
       "</div>"
      ],
      "text/plain": [
       "              player  season_end                  position shoots height  \\\n",
       "463730  Tim Hardaway        2019               Point Guard  Right    6-0   \n",
       "490570  Tim Hardaway        2020               Point Guard  Right    6-0   \n",
       "511187  Tim Hardaway        2021  Center and Power Forward  Right   6-10   \n",
       "\n",
       "       weight          birthDate      salary  \n",
       "463730  175lb  September 1, 1966         NaN  \n",
       "490570  175lb  September 1, 1966         NaN  \n",
       "511187  240lb      July 20, 1991  10185185.0  "
      ]
     },
     "execution_count": 1044,
     "metadata": {},
     "output_type": "execute_result"
    }
   ],
   "source": [
    "# Corregimos los valores en nuestra tabla de scrapping, que se habían absorbido mal\n",
    "scrap[scrap['player'] == 'Tim Hardaway']"
   ]
  },
  {
   "cell_type": "code",
   "execution_count": 1088,
   "metadata": {},
   "outputs": [
    {
     "data": {
      "text/html": [
       "<div>\n",
       "<style scoped>\n",
       "    .dataframe tbody tr th:only-of-type {\n",
       "        vertical-align: middle;\n",
       "    }\n",
       "\n",
       "    .dataframe tbody tr th {\n",
       "        vertical-align: top;\n",
       "    }\n",
       "\n",
       "    .dataframe thead th {\n",
       "        text-align: right;\n",
       "    }\n",
       "</style>\n",
       "<table border=\"1\" class=\"dataframe\">\n",
       "  <thead>\n",
       "    <tr style=\"text-align: right;\">\n",
       "      <th></th>\n",
       "      <th>player</th>\n",
       "      <th>season_end</th>\n",
       "      <th>position</th>\n",
       "      <th>shoots</th>\n",
       "      <th>height</th>\n",
       "      <th>weight</th>\n",
       "      <th>birthDate</th>\n",
       "      <th>salary</th>\n",
       "    </tr>\n",
       "  </thead>\n",
       "  <tbody>\n",
       "    <tr>\n",
       "      <th>463730</th>\n",
       "      <td>Tim Hardaway</td>\n",
       "      <td>2019</td>\n",
       "      <td>Point Guard</td>\n",
       "      <td>Right</td>\n",
       "      <td>6-0</td>\n",
       "      <td>175lb</td>\n",
       "      <td>September 1, 1966</td>\n",
       "      <td>NaN</td>\n",
       "    </tr>\n",
       "  </tbody>\n",
       "</table>\n",
       "</div>"
      ],
      "text/plain": [
       "              player  season_end     position shoots height weight  \\\n",
       "463730  Tim Hardaway        2019  Point Guard  Right    6-0  175lb   \n",
       "\n",
       "                birthDate  salary  \n",
       "463730  September 1, 1966     NaN  "
      ]
     },
     "execution_count": 1088,
     "metadata": {},
     "output_type": "execute_result"
    }
   ],
   "source": [
    "scrap[138:139]"
   ]
  },
  {
   "cell_type": "code",
   "execution_count": 1117,
   "metadata": {},
   "outputs": [],
   "source": [
    "scrap.loc[463730, 'player'] = 'Tim Hardaway Jr.'\n",
    "scrap.loc[463730, 'position'] = 'Shooting Guard'\n",
    "scrap.loc[463730, 'shoots'] = 'Right'\n",
    "scrap.loc[463730, 'height'] = '6-5'\n",
    "scrap.loc[463730, 'weight'] = '205lb'\n",
    "scrap.loc[463730, 'birthDate'] = 'March 16, 1992'\n",
    "scrap.loc[463730, 'salary'] = float(17325000)"
   ]
  },
  {
   "cell_type": "code",
   "execution_count": 1096,
   "metadata": {},
   "outputs": [
    {
     "data": {
      "text/html": [
       "<div>\n",
       "<style scoped>\n",
       "    .dataframe tbody tr th:only-of-type {\n",
       "        vertical-align: middle;\n",
       "    }\n",
       "\n",
       "    .dataframe tbody tr th {\n",
       "        vertical-align: top;\n",
       "    }\n",
       "\n",
       "    .dataframe thead th {\n",
       "        text-align: right;\n",
       "    }\n",
       "</style>\n",
       "<table border=\"1\" class=\"dataframe\">\n",
       "  <thead>\n",
       "    <tr style=\"text-align: right;\">\n",
       "      <th></th>\n",
       "      <th>player</th>\n",
       "      <th>season_end</th>\n",
       "      <th>position</th>\n",
       "      <th>shoots</th>\n",
       "      <th>height</th>\n",
       "      <th>weight</th>\n",
       "      <th>birthDate</th>\n",
       "      <th>salary</th>\n",
       "    </tr>\n",
       "  </thead>\n",
       "  <tbody>\n",
       "    <tr>\n",
       "      <th>490570</th>\n",
       "      <td>Tim Hardaway</td>\n",
       "      <td>2020</td>\n",
       "      <td>Point Guard</td>\n",
       "      <td>Right</td>\n",
       "      <td>6-0</td>\n",
       "      <td>175lb</td>\n",
       "      <td>September 1, 1966</td>\n",
       "      <td>NaN</td>\n",
       "    </tr>\n",
       "  </tbody>\n",
       "</table>\n",
       "</div>"
      ],
      "text/plain": [
       "              player  season_end     position shoots height weight  \\\n",
       "490570  Tim Hardaway        2020  Point Guard  Right    6-0  175lb   \n",
       "\n",
       "                birthDate  salary  \n",
       "490570  September 1, 1966     NaN  "
      ]
     },
     "execution_count": 1096,
     "metadata": {},
     "output_type": "execute_result"
    }
   ],
   "source": [
    "scrap[705:706]"
   ]
  },
  {
   "cell_type": "code",
   "execution_count": 1118,
   "metadata": {},
   "outputs": [],
   "source": [
    "scrap.loc[490570, 'player'] = 'Tim Hardaway Jr.'\n",
    "scrap.loc[490570, 'position'] = 'Shooting Guard'\n",
    "scrap.loc[490570, 'shoots'] = 'Right'\n",
    "scrap.loc[490570, 'height'] = '6-5'\n",
    "scrap.loc[490570, 'weight'] = '205lb'\n",
    "scrap.loc[490570, 'birthDate'] = 'March 16, 1992'\n",
    "scrap.loc[490570, 'salary'] = float(18150000)"
   ]
  },
  {
   "cell_type": "code",
   "execution_count": 1098,
   "metadata": {},
   "outputs": [
    {
     "data": {
      "text/html": [
       "<div>\n",
       "<style scoped>\n",
       "    .dataframe tbody tr th:only-of-type {\n",
       "        vertical-align: middle;\n",
       "    }\n",
       "\n",
       "    .dataframe tbody tr th {\n",
       "        vertical-align: top;\n",
       "    }\n",
       "\n",
       "    .dataframe thead th {\n",
       "        text-align: right;\n",
       "    }\n",
       "</style>\n",
       "<table border=\"1\" class=\"dataframe\">\n",
       "  <thead>\n",
       "    <tr style=\"text-align: right;\">\n",
       "      <th></th>\n",
       "      <th>player</th>\n",
       "      <th>season_end</th>\n",
       "      <th>position</th>\n",
       "      <th>shoots</th>\n",
       "      <th>height</th>\n",
       "      <th>weight</th>\n",
       "      <th>birthDate</th>\n",
       "      <th>salary</th>\n",
       "    </tr>\n",
       "  </thead>\n",
       "  <tbody>\n",
       "    <tr>\n",
       "      <th>511187</th>\n",
       "      <td>Tim Hardaway</td>\n",
       "      <td>2021</td>\n",
       "      <td>Center and Power Forward</td>\n",
       "      <td>Right</td>\n",
       "      <td>6-10</td>\n",
       "      <td>240lb</td>\n",
       "      <td>July 20, 1991</td>\n",
       "      <td>10185185.0</td>\n",
       "    </tr>\n",
       "  </tbody>\n",
       "</table>\n",
       "</div>"
      ],
      "text/plain": [
       "              player  season_end                  position shoots height  \\\n",
       "511187  Tim Hardaway        2021  Center and Power Forward  Right   6-10   \n",
       "\n",
       "       weight      birthDate      salary  \n",
       "511187  240lb  July 20, 1991  10185185.0  "
      ]
     },
     "execution_count": 1098,
     "metadata": {},
     "output_type": "execute_result"
    }
   ],
   "source": [
    "scrap[1335:1336]"
   ]
  },
  {
   "cell_type": "code",
   "execution_count": 1119,
   "metadata": {},
   "outputs": [],
   "source": [
    "scrap.loc[511187, 'player'] = 'Tim Hardaway Jr.'\n",
    "scrap.loc[511187, 'position'] = 'Shooting Guard'\n",
    "scrap.loc[511187, 'shoots'] = 'Right'\n",
    "scrap.loc[511187, 'height'] = '6-5'\n",
    "scrap.loc[511187, 'weight'] = '205lb'\n",
    "scrap.loc[511187, 'birthDate'] = 'March 16, 1992'\n",
    "scrap.loc[511187, 'salary'] = float(18975000)"
   ]
  },
  {
   "cell_type": "code",
   "execution_count": 1122,
   "metadata": {},
   "outputs": [
    {
     "data": {
      "text/html": [
       "<div>\n",
       "<style scoped>\n",
       "    .dataframe tbody tr th:only-of-type {\n",
       "        vertical-align: middle;\n",
       "    }\n",
       "\n",
       "    .dataframe tbody tr th {\n",
       "        vertical-align: top;\n",
       "    }\n",
       "\n",
       "    .dataframe thead th {\n",
       "        text-align: right;\n",
       "    }\n",
       "</style>\n",
       "<table border=\"1\" class=\"dataframe\">\n",
       "  <thead>\n",
       "    <tr style=\"text-align: right;\">\n",
       "      <th></th>\n",
       "      <th>player</th>\n",
       "      <th>season_end</th>\n",
       "      <th>position</th>\n",
       "      <th>shoots</th>\n",
       "      <th>height</th>\n",
       "      <th>weight</th>\n",
       "      <th>birthDate</th>\n",
       "      <th>salary</th>\n",
       "    </tr>\n",
       "  </thead>\n",
       "  <tbody>\n",
       "    <tr>\n",
       "      <th>463730</th>\n",
       "      <td>Tim Hardaway Jr.</td>\n",
       "      <td>2019.0</td>\n",
       "      <td>Shooting Guard</td>\n",
       "      <td>Right</td>\n",
       "      <td>6-5</td>\n",
       "      <td>205lb</td>\n",
       "      <td>March 16, 1992</td>\n",
       "      <td>17325000.0</td>\n",
       "    </tr>\n",
       "    <tr>\n",
       "      <th>490570</th>\n",
       "      <td>Tim Hardaway Jr.</td>\n",
       "      <td>2020.0</td>\n",
       "      <td>Shooting Guard</td>\n",
       "      <td>Right</td>\n",
       "      <td>6-5</td>\n",
       "      <td>205lb</td>\n",
       "      <td>March 16, 1992</td>\n",
       "      <td>18150000.0</td>\n",
       "    </tr>\n",
       "    <tr>\n",
       "      <th>511187</th>\n",
       "      <td>Tim Hardaway Jr.</td>\n",
       "      <td>2021.0</td>\n",
       "      <td>Shooting Guard</td>\n",
       "      <td>Right</td>\n",
       "      <td>6-5</td>\n",
       "      <td>205lb</td>\n",
       "      <td>March 16, 1992</td>\n",
       "      <td>18975000.0</td>\n",
       "    </tr>\n",
       "  </tbody>\n",
       "</table>\n",
       "</div>"
      ],
      "text/plain": [
       "                  player  season_end        position shoots height weight  \\\n",
       "463730  Tim Hardaway Jr.      2019.0  Shooting Guard  Right    6-5  205lb   \n",
       "490570  Tim Hardaway Jr.      2020.0  Shooting Guard  Right    6-5  205lb   \n",
       "511187  Tim Hardaway Jr.      2021.0  Shooting Guard  Right    6-5  205lb   \n",
       "\n",
       "             birthDate      salary  \n",
       "463730  March 16, 1992  17325000.0  \n",
       "490570  March 16, 1992  18150000.0  \n",
       "511187  March 16, 1992  18975000.0  "
      ]
     },
     "execution_count": 1122,
     "metadata": {},
     "output_type": "execute_result"
    }
   ],
   "source": [
    "# Ya estaría corregido\n",
    "scrap[scrap['player'] == 'Tim Hardaway Jr.']"
   ]
  },
  {
   "cell_type": "markdown",
   "metadata": {},
   "source": [
    "### Exploramos vacíos de la tabla 'scrap' que acabamos de obtener"
   ]
  },
  {
   "cell_type": "code",
   "execution_count": 1126,
   "metadata": {},
   "outputs": [
    {
     "data": {
      "text/plain": [
       "player          0\n",
       "season_end      0\n",
       "position        3\n",
       "shoots          3\n",
       "height          3\n",
       "weight          3\n",
       "birthDate       3\n",
       "salary        194\n",
       "dtype: int64"
      ]
     },
     "execution_count": 1126,
     "metadata": {},
     "output_type": "execute_result"
    }
   ],
   "source": [
    "scrap.isna().sum()"
   ]
  },
  {
   "cell_type": "markdown",
   "metadata": {},
   "source": [
    "#### Primero corregimos las 3 que no tienen posición, shoots, height, weight ni birthDate"
   ]
  },
  {
   "cell_type": "code",
   "execution_count": 1127,
   "metadata": {},
   "outputs": [
    {
     "data": {
      "text/html": [
       "<div>\n",
       "<style scoped>\n",
       "    .dataframe tbody tr th:only-of-type {\n",
       "        vertical-align: middle;\n",
       "    }\n",
       "\n",
       "    .dataframe tbody tr th {\n",
       "        vertical-align: top;\n",
       "    }\n",
       "\n",
       "    .dataframe thead th {\n",
       "        text-align: right;\n",
       "    }\n",
       "</style>\n",
       "<table border=\"1\" class=\"dataframe\">\n",
       "  <thead>\n",
       "    <tr style=\"text-align: right;\">\n",
       "      <th></th>\n",
       "      <th>player</th>\n",
       "      <th>season_end</th>\n",
       "      <th>position</th>\n",
       "      <th>shoots</th>\n",
       "      <th>height</th>\n",
       "      <th>weight</th>\n",
       "      <th>birthDate</th>\n",
       "      <th>salary</th>\n",
       "    </tr>\n",
       "  </thead>\n",
       "  <tbody>\n",
       "    <tr>\n",
       "      <th>463830</th>\n",
       "      <td>Boban Marjanović</td>\n",
       "      <td>2019.0</td>\n",
       "      <td>NaN</td>\n",
       "      <td>NaN</td>\n",
       "      <td>NaN</td>\n",
       "      <td>NaN</td>\n",
       "      <td>NaN</td>\n",
       "      <td>NaN</td>\n",
       "    </tr>\n",
       "    <tr>\n",
       "      <th>469888</th>\n",
       "      <td>Danuel House</td>\n",
       "      <td>2019.0</td>\n",
       "      <td>NaN</td>\n",
       "      <td>NaN</td>\n",
       "      <td>NaN</td>\n",
       "      <td>NaN</td>\n",
       "      <td>NaN</td>\n",
       "      <td>NaN</td>\n",
       "    </tr>\n",
       "    <tr>\n",
       "      <th>470782</th>\n",
       "      <td>Nenê Hilário</td>\n",
       "      <td>2019.0</td>\n",
       "      <td>NaN</td>\n",
       "      <td>NaN</td>\n",
       "      <td>NaN</td>\n",
       "      <td>NaN</td>\n",
       "      <td>NaN</td>\n",
       "      <td>NaN</td>\n",
       "    </tr>\n",
       "  </tbody>\n",
       "</table>\n",
       "</div>"
      ],
      "text/plain": [
       "                  player  season_end position shoots height weight birthDate  \\\n",
       "463830  Boban Marjanović      2019.0      NaN    NaN    NaN    NaN       NaN   \n",
       "469888      Danuel House      2019.0      NaN    NaN    NaN    NaN       NaN   \n",
       "470782      Nenê Hilário      2019.0      NaN    NaN    NaN    NaN       NaN   \n",
       "\n",
       "        salary  \n",
       "463830     NaN  \n",
       "469888     NaN  \n",
       "470782     NaN  "
      ]
     },
     "execution_count": 1127,
     "metadata": {},
     "output_type": "execute_result"
    }
   ],
   "source": [
    "scrap[scrap['position'].isna()]"
   ]
  },
  {
   "cell_type": "code",
   "execution_count": 1128,
   "metadata": {},
   "outputs": [
    {
     "data": {
      "text/html": [
       "<div>\n",
       "<style scoped>\n",
       "    .dataframe tbody tr th:only-of-type {\n",
       "        vertical-align: middle;\n",
       "    }\n",
       "\n",
       "    .dataframe tbody tr th {\n",
       "        vertical-align: top;\n",
       "    }\n",
       "\n",
       "    .dataframe thead th {\n",
       "        text-align: right;\n",
       "    }\n",
       "</style>\n",
       "<table border=\"1\" class=\"dataframe\">\n",
       "  <thead>\n",
       "    <tr style=\"text-align: right;\">\n",
       "      <th></th>\n",
       "      <th>player</th>\n",
       "      <th>season_end</th>\n",
       "      <th>position</th>\n",
       "      <th>shoots</th>\n",
       "      <th>height</th>\n",
       "      <th>weight</th>\n",
       "      <th>birthDate</th>\n",
       "      <th>salary</th>\n",
       "    </tr>\n",
       "  </thead>\n",
       "  <tbody>\n",
       "    <tr>\n",
       "      <th>463830</th>\n",
       "      <td>Boban Marjanović</td>\n",
       "      <td>2019.0</td>\n",
       "      <td>NaN</td>\n",
       "      <td>NaN</td>\n",
       "      <td>NaN</td>\n",
       "      <td>NaN</td>\n",
       "      <td>NaN</td>\n",
       "      <td>NaN</td>\n",
       "    </tr>\n",
       "    <tr>\n",
       "      <th>491989</th>\n",
       "      <td>Boban Marjanović</td>\n",
       "      <td>2020.0</td>\n",
       "      <td>Center</td>\n",
       "      <td>Right</td>\n",
       "      <td>7-4</td>\n",
       "      <td>290lb</td>\n",
       "      <td>August 15, 1988</td>\n",
       "      <td>3500000.0</td>\n",
       "    </tr>\n",
       "    <tr>\n",
       "      <th>511304</th>\n",
       "      <td>Boban Marjanović</td>\n",
       "      <td>2021.0</td>\n",
       "      <td>Center</td>\n",
       "      <td>Right</td>\n",
       "      <td>7-4</td>\n",
       "      <td>290lb</td>\n",
       "      <td>August 15, 1988</td>\n",
       "      <td>3500000.0</td>\n",
       "    </tr>\n",
       "  </tbody>\n",
       "</table>\n",
       "</div>"
      ],
      "text/plain": [
       "                  player  season_end position shoots height weight  \\\n",
       "463830  Boban Marjanović      2019.0      NaN    NaN    NaN    NaN   \n",
       "491989  Boban Marjanović      2020.0   Center  Right    7-4  290lb   \n",
       "511304  Boban Marjanović      2021.0   Center  Right    7-4  290lb   \n",
       "\n",
       "              birthDate     salary  \n",
       "463830              NaN        NaN  \n",
       "491989  August 15, 1988  3500000.0  \n",
       "511304  August 15, 1988  3500000.0  "
      ]
     },
     "execution_count": 1128,
     "metadata": {},
     "output_type": "execute_result"
    }
   ],
   "source": [
    "# Antes\n",
    "scrap[scrap['player'] == 'Boban Marjanović']"
   ]
  },
  {
   "cell_type": "code",
   "execution_count": 1133,
   "metadata": {},
   "outputs": [],
   "source": [
    "scrap.loc[463830, 'player'] = 'Boban Marjanović'\n",
    "scrap.loc[463830, 'position'] = 'Center'\n",
    "scrap.loc[463830, 'shoots'] = 'Right'\n",
    "scrap.loc[463830, 'height'] = '7-4'\n",
    "scrap.loc[463830, 'weight'] = '290lb'\n",
    "scrap.loc[463830, 'birthDate'] = 'August 15, 1988'\n",
    "scrap.loc[463830, 'salary'] = float(7000000)"
   ]
  },
  {
   "cell_type": "code",
   "execution_count": 1134,
   "metadata": {},
   "outputs": [
    {
     "data": {
      "text/html": [
       "<div>\n",
       "<style scoped>\n",
       "    .dataframe tbody tr th:only-of-type {\n",
       "        vertical-align: middle;\n",
       "    }\n",
       "\n",
       "    .dataframe tbody tr th {\n",
       "        vertical-align: top;\n",
       "    }\n",
       "\n",
       "    .dataframe thead th {\n",
       "        text-align: right;\n",
       "    }\n",
       "</style>\n",
       "<table border=\"1\" class=\"dataframe\">\n",
       "  <thead>\n",
       "    <tr style=\"text-align: right;\">\n",
       "      <th></th>\n",
       "      <th>player</th>\n",
       "      <th>season_end</th>\n",
       "      <th>position</th>\n",
       "      <th>shoots</th>\n",
       "      <th>height</th>\n",
       "      <th>weight</th>\n",
       "      <th>birthDate</th>\n",
       "      <th>salary</th>\n",
       "    </tr>\n",
       "  </thead>\n",
       "  <tbody>\n",
       "    <tr>\n",
       "      <th>463830</th>\n",
       "      <td>Boban Marjanović</td>\n",
       "      <td>2019.0</td>\n",
       "      <td>Center</td>\n",
       "      <td>Right</td>\n",
       "      <td>7-4</td>\n",
       "      <td>290lb</td>\n",
       "      <td>August 15, 1988</td>\n",
       "      <td>7000000.0</td>\n",
       "    </tr>\n",
       "    <tr>\n",
       "      <th>491989</th>\n",
       "      <td>Boban Marjanović</td>\n",
       "      <td>2020.0</td>\n",
       "      <td>Center</td>\n",
       "      <td>Right</td>\n",
       "      <td>7-4</td>\n",
       "      <td>290lb</td>\n",
       "      <td>August 15, 1988</td>\n",
       "      <td>3500000.0</td>\n",
       "    </tr>\n",
       "    <tr>\n",
       "      <th>511304</th>\n",
       "      <td>Boban Marjanović</td>\n",
       "      <td>2021.0</td>\n",
       "      <td>Center</td>\n",
       "      <td>Right</td>\n",
       "      <td>7-4</td>\n",
       "      <td>290lb</td>\n",
       "      <td>August 15, 1988</td>\n",
       "      <td>3500000.0</td>\n",
       "    </tr>\n",
       "  </tbody>\n",
       "</table>\n",
       "</div>"
      ],
      "text/plain": [
       "                  player  season_end position shoots height weight  \\\n",
       "463830  Boban Marjanović      2019.0   Center  Right    7-4  290lb   \n",
       "491989  Boban Marjanović      2020.0   Center  Right    7-4  290lb   \n",
       "511304  Boban Marjanović      2021.0   Center  Right    7-4  290lb   \n",
       "\n",
       "              birthDate     salary  \n",
       "463830  August 15, 1988  7000000.0  \n",
       "491989  August 15, 1988  3500000.0  \n",
       "511304  August 15, 1988  3500000.0  "
      ]
     },
     "execution_count": 1134,
     "metadata": {},
     "output_type": "execute_result"
    }
   ],
   "source": [
    "# Después\n",
    "scrap[scrap['player'] == 'Boban Marjanović']"
   ]
  },
  {
   "cell_type": "code",
   "execution_count": 1129,
   "metadata": {},
   "outputs": [
    {
     "data": {
      "text/html": [
       "<div>\n",
       "<style scoped>\n",
       "    .dataframe tbody tr th:only-of-type {\n",
       "        vertical-align: middle;\n",
       "    }\n",
       "\n",
       "    .dataframe tbody tr th {\n",
       "        vertical-align: top;\n",
       "    }\n",
       "\n",
       "    .dataframe thead th {\n",
       "        text-align: right;\n",
       "    }\n",
       "</style>\n",
       "<table border=\"1\" class=\"dataframe\">\n",
       "  <thead>\n",
       "    <tr style=\"text-align: right;\">\n",
       "      <th></th>\n",
       "      <th>player</th>\n",
       "      <th>season_end</th>\n",
       "      <th>position</th>\n",
       "      <th>shoots</th>\n",
       "      <th>height</th>\n",
       "      <th>weight</th>\n",
       "      <th>birthDate</th>\n",
       "      <th>salary</th>\n",
       "    </tr>\n",
       "  </thead>\n",
       "  <tbody>\n",
       "    <tr>\n",
       "      <th>469888</th>\n",
       "      <td>Danuel House</td>\n",
       "      <td>2019.0</td>\n",
       "      <td>NaN</td>\n",
       "      <td>NaN</td>\n",
       "      <td>NaN</td>\n",
       "      <td>NaN</td>\n",
       "      <td>NaN</td>\n",
       "      <td>NaN</td>\n",
       "    </tr>\n",
       "    <tr>\n",
       "      <th>490693</th>\n",
       "      <td>Danuel House</td>\n",
       "      <td>2020.0</td>\n",
       "      <td>Small Forward and Shooting Guard</td>\n",
       "      <td>Right</td>\n",
       "      <td>6-6</td>\n",
       "      <td>220lb</td>\n",
       "      <td>June 7, 1993</td>\n",
       "      <td>3540000.0</td>\n",
       "    </tr>\n",
       "    <tr>\n",
       "      <th>511515</th>\n",
       "      <td>Danuel House</td>\n",
       "      <td>2021.0</td>\n",
       "      <td>Small Forward and Shooting Guard</td>\n",
       "      <td>Right</td>\n",
       "      <td>6-6</td>\n",
       "      <td>220lb</td>\n",
       "      <td>June 7, 1993</td>\n",
       "      <td>3717000.0</td>\n",
       "    </tr>\n",
       "  </tbody>\n",
       "</table>\n",
       "</div>"
      ],
      "text/plain": [
       "              player  season_end                          position shoots  \\\n",
       "469888  Danuel House      2019.0                               NaN    NaN   \n",
       "490693  Danuel House      2020.0  Small Forward and Shooting Guard  Right   \n",
       "511515  Danuel House      2021.0  Small Forward and Shooting Guard  Right   \n",
       "\n",
       "       height weight     birthDate     salary  \n",
       "469888    NaN    NaN           NaN        NaN  \n",
       "490693    6-6  220lb  June 7, 1993  3540000.0  \n",
       "511515    6-6  220lb  June 7, 1993  3717000.0  "
      ]
     },
     "execution_count": 1129,
     "metadata": {},
     "output_type": "execute_result"
    }
   ],
   "source": [
    "# Antes\n",
    "scrap[scrap['player'] == 'Danuel House']"
   ]
  },
  {
   "cell_type": "code",
   "execution_count": 1135,
   "metadata": {},
   "outputs": [],
   "source": [
    "scrap.loc[469888, 'player'] = 'Danuel House'\n",
    "scrap.loc[469888, 'position'] = 'Small Forward and Shooting Guard'\n",
    "scrap.loc[469888, 'shoots'] = 'Right'\n",
    "scrap.loc[469888, 'height'] = '6-6'\n",
    "scrap.loc[469888, 'weight'] = '220lb'\n",
    "scrap.loc[469888, 'birthDate'] = 'June 7, 1993'\n",
    "scrap.loc[469888, 'salary'] = float(341830)"
   ]
  },
  {
   "cell_type": "code",
   "execution_count": 1136,
   "metadata": {},
   "outputs": [
    {
     "data": {
      "text/html": [
       "<div>\n",
       "<style scoped>\n",
       "    .dataframe tbody tr th:only-of-type {\n",
       "        vertical-align: middle;\n",
       "    }\n",
       "\n",
       "    .dataframe tbody tr th {\n",
       "        vertical-align: top;\n",
       "    }\n",
       "\n",
       "    .dataframe thead th {\n",
       "        text-align: right;\n",
       "    }\n",
       "</style>\n",
       "<table border=\"1\" class=\"dataframe\">\n",
       "  <thead>\n",
       "    <tr style=\"text-align: right;\">\n",
       "      <th></th>\n",
       "      <th>player</th>\n",
       "      <th>season_end</th>\n",
       "      <th>position</th>\n",
       "      <th>shoots</th>\n",
       "      <th>height</th>\n",
       "      <th>weight</th>\n",
       "      <th>birthDate</th>\n",
       "      <th>salary</th>\n",
       "    </tr>\n",
       "  </thead>\n",
       "  <tbody>\n",
       "    <tr>\n",
       "      <th>469888</th>\n",
       "      <td>Danuel House</td>\n",
       "      <td>2019.0</td>\n",
       "      <td>Small Forward and Shooting Guard</td>\n",
       "      <td>Right</td>\n",
       "      <td>6-6</td>\n",
       "      <td>220lb</td>\n",
       "      <td>June 7, 1993</td>\n",
       "      <td>341830.0</td>\n",
       "    </tr>\n",
       "    <tr>\n",
       "      <th>490693</th>\n",
       "      <td>Danuel House</td>\n",
       "      <td>2020.0</td>\n",
       "      <td>Small Forward and Shooting Guard</td>\n",
       "      <td>Right</td>\n",
       "      <td>6-6</td>\n",
       "      <td>220lb</td>\n",
       "      <td>June 7, 1993</td>\n",
       "      <td>3540000.0</td>\n",
       "    </tr>\n",
       "    <tr>\n",
       "      <th>511515</th>\n",
       "      <td>Danuel House</td>\n",
       "      <td>2021.0</td>\n",
       "      <td>Small Forward and Shooting Guard</td>\n",
       "      <td>Right</td>\n",
       "      <td>6-6</td>\n",
       "      <td>220lb</td>\n",
       "      <td>June 7, 1993</td>\n",
       "      <td>3717000.0</td>\n",
       "    </tr>\n",
       "  </tbody>\n",
       "</table>\n",
       "</div>"
      ],
      "text/plain": [
       "              player  season_end                          position shoots  \\\n",
       "469888  Danuel House      2019.0  Small Forward and Shooting Guard  Right   \n",
       "490693  Danuel House      2020.0  Small Forward and Shooting Guard  Right   \n",
       "511515  Danuel House      2021.0  Small Forward and Shooting Guard  Right   \n",
       "\n",
       "       height weight     birthDate     salary  \n",
       "469888    6-6  220lb  June 7, 1993   341830.0  \n",
       "490693    6-6  220lb  June 7, 1993  3540000.0  \n",
       "511515    6-6  220lb  June 7, 1993  3717000.0  "
      ]
     },
     "execution_count": 1136,
     "metadata": {},
     "output_type": "execute_result"
    }
   ],
   "source": [
    "# Después\n",
    "scrap[scrap['player'] == 'Danuel House']"
   ]
  },
  {
   "cell_type": "code",
   "execution_count": 1130,
   "metadata": {},
   "outputs": [
    {
     "data": {
      "text/html": [
       "<div>\n",
       "<style scoped>\n",
       "    .dataframe tbody tr th:only-of-type {\n",
       "        vertical-align: middle;\n",
       "    }\n",
       "\n",
       "    .dataframe tbody tr th {\n",
       "        vertical-align: top;\n",
       "    }\n",
       "\n",
       "    .dataframe thead th {\n",
       "        text-align: right;\n",
       "    }\n",
       "</style>\n",
       "<table border=\"1\" class=\"dataframe\">\n",
       "  <thead>\n",
       "    <tr style=\"text-align: right;\">\n",
       "      <th></th>\n",
       "      <th>player</th>\n",
       "      <th>season_end</th>\n",
       "      <th>position</th>\n",
       "      <th>shoots</th>\n",
       "      <th>height</th>\n",
       "      <th>weight</th>\n",
       "      <th>birthDate</th>\n",
       "      <th>salary</th>\n",
       "    </tr>\n",
       "  </thead>\n",
       "  <tbody>\n",
       "    <tr>\n",
       "      <th>470782</th>\n",
       "      <td>Nenê Hilário</td>\n",
       "      <td>2019.0</td>\n",
       "      <td>NaN</td>\n",
       "      <td>NaN</td>\n",
       "      <td>NaN</td>\n",
       "      <td>NaN</td>\n",
       "      <td>NaN</td>\n",
       "      <td>NaN</td>\n",
       "    </tr>\n",
       "  </tbody>\n",
       "</table>\n",
       "</div>"
      ],
      "text/plain": [
       "              player  season_end position shoots height weight birthDate  \\\n",
       "470782  Nenê Hilário      2019.0      NaN    NaN    NaN    NaN       NaN   \n",
       "\n",
       "        salary  \n",
       "470782     NaN  "
      ]
     },
     "execution_count": 1130,
     "metadata": {},
     "output_type": "execute_result"
    }
   ],
   "source": [
    "# Antes\n",
    "scrap[scrap['player'] == 'Nenê Hilário']"
   ]
  },
  {
   "cell_type": "code",
   "execution_count": 1137,
   "metadata": {},
   "outputs": [],
   "source": [
    "scrap.loc[470782, 'player'] = 'Nenê Hilário'\n",
    "scrap.loc[470782, 'position'] = 'Center and Power Forward'\n",
    "scrap.loc[470782, 'shoots'] = 'Right'\n",
    "scrap.loc[470782, 'height'] = '6-11'\n",
    "scrap.loc[470782, 'weight'] = '250lb'\n",
    "scrap.loc[470782, 'birthDate'] = 'September 13, 1982'\n",
    "scrap.loc[470782, 'salary'] = float(3651480)"
   ]
  },
  {
   "cell_type": "code",
   "execution_count": 1138,
   "metadata": {},
   "outputs": [
    {
     "data": {
      "text/html": [
       "<div>\n",
       "<style scoped>\n",
       "    .dataframe tbody tr th:only-of-type {\n",
       "        vertical-align: middle;\n",
       "    }\n",
       "\n",
       "    .dataframe tbody tr th {\n",
       "        vertical-align: top;\n",
       "    }\n",
       "\n",
       "    .dataframe thead th {\n",
       "        text-align: right;\n",
       "    }\n",
       "</style>\n",
       "<table border=\"1\" class=\"dataframe\">\n",
       "  <thead>\n",
       "    <tr style=\"text-align: right;\">\n",
       "      <th></th>\n",
       "      <th>player</th>\n",
       "      <th>season_end</th>\n",
       "      <th>position</th>\n",
       "      <th>shoots</th>\n",
       "      <th>height</th>\n",
       "      <th>weight</th>\n",
       "      <th>birthDate</th>\n",
       "      <th>salary</th>\n",
       "    </tr>\n",
       "  </thead>\n",
       "  <tbody>\n",
       "    <tr>\n",
       "      <th>470782</th>\n",
       "      <td>Nenê Hilário</td>\n",
       "      <td>2019.0</td>\n",
       "      <td>Center and Power Forward</td>\n",
       "      <td>Right</td>\n",
       "      <td>6-11</td>\n",
       "      <td>250lb</td>\n",
       "      <td>September 13, 1982</td>\n",
       "      <td>3651480.0</td>\n",
       "    </tr>\n",
       "  </tbody>\n",
       "</table>\n",
       "</div>"
      ],
      "text/plain": [
       "              player  season_end                  position shoots height  \\\n",
       "470782  Nenê Hilário      2019.0  Center and Power Forward  Right   6-11   \n",
       "\n",
       "       weight           birthDate     salary  \n",
       "470782  250lb  September 13, 1982  3651480.0  "
      ]
     },
     "execution_count": 1138,
     "metadata": {},
     "output_type": "execute_result"
    }
   ],
   "source": [
    "# Después\n",
    "scrap[scrap['player'] == 'Nenê Hilário']"
   ]
  },
  {
   "cell_type": "markdown",
   "metadata": {},
   "source": [
    "#### Ahora vemos qué ha pasado con las que no tienen salario"
   ]
  },
  {
   "cell_type": "code",
   "execution_count": 1147,
   "metadata": {},
   "outputs": [
    {
     "data": {
      "text/html": [
       "<div>\n",
       "<style scoped>\n",
       "    .dataframe tbody tr th:only-of-type {\n",
       "        vertical-align: middle;\n",
       "    }\n",
       "\n",
       "    .dataframe tbody tr th {\n",
       "        vertical-align: top;\n",
       "    }\n",
       "\n",
       "    .dataframe thead th {\n",
       "        text-align: right;\n",
       "    }\n",
       "</style>\n",
       "<table border=\"1\" class=\"dataframe\">\n",
       "  <thead>\n",
       "    <tr style=\"text-align: right;\">\n",
       "      <th></th>\n",
       "      <th>player</th>\n",
       "      <th>season_end</th>\n",
       "      <th>position</th>\n",
       "      <th>shoots</th>\n",
       "      <th>height</th>\n",
       "      <th>weight</th>\n",
       "      <th>birthDate</th>\n",
       "      <th>salary</th>\n",
       "    </tr>\n",
       "  </thead>\n",
       "  <tbody>\n",
       "    <tr>\n",
       "      <th>463645</th>\n",
       "      <td>Glenn Robinson</td>\n",
       "      <td>2019.0</td>\n",
       "      <td>Small Forward</td>\n",
       "      <td>Right</td>\n",
       "      <td>6-7</td>\n",
       "      <td>225lb</td>\n",
       "      <td>January 10, 1973</td>\n",
       "      <td>NaN</td>\n",
       "    </tr>\n",
       "    <tr>\n",
       "      <th>463652</th>\n",
       "      <td>Zach Lofton</td>\n",
       "      <td>2019.0</td>\n",
       "      <td>Shooting Guard</td>\n",
       "      <td>Right</td>\n",
       "      <td>6-4</td>\n",
       "      <td>180lb</td>\n",
       "      <td>November 18, 1992</td>\n",
       "      <td>NaN</td>\n",
       "    </tr>\n",
       "    <tr>\n",
       "      <th>463712</th>\n",
       "      <td>Jaren Jackson</td>\n",
       "      <td>2019.0</td>\n",
       "      <td>Shooting Guard</td>\n",
       "      <td>Right</td>\n",
       "      <td>6-4</td>\n",
       "      <td>190lb</td>\n",
       "      <td>October 27, 1967</td>\n",
       "      <td>NaN</td>\n",
       "    </tr>\n",
       "    <tr>\n",
       "      <th>463756</th>\n",
       "      <td>Alex Poythress</td>\n",
       "      <td>2019.0</td>\n",
       "      <td>Power Forward</td>\n",
       "      <td>Right</td>\n",
       "      <td>6-9</td>\n",
       "      <td>235lb</td>\n",
       "      <td>September 6, 1993</td>\n",
       "      <td>NaN</td>\n",
       "    </tr>\n",
       "    <tr>\n",
       "      <th>463766</th>\n",
       "      <td>John Holland</td>\n",
       "      <td>2019.0</td>\n",
       "      <td>Shooting Guard</td>\n",
       "      <td>Right</td>\n",
       "      <td>6-3</td>\n",
       "      <td>180lb</td>\n",
       "      <td>December 6, 1956</td>\n",
       "      <td>NaN</td>\n",
       "    </tr>\n",
       "    <tr>\n",
       "      <th>...</th>\n",
       "      <td>...</td>\n",
       "      <td>...</td>\n",
       "      <td>...</td>\n",
       "      <td>...</td>\n",
       "      <td>...</td>\n",
       "      <td>...</td>\n",
       "      <td>...</td>\n",
       "      <td>...</td>\n",
       "    </tr>\n",
       "    <tr>\n",
       "      <th>530261</th>\n",
       "      <td>Charlie Brown</td>\n",
       "      <td>2021.0</td>\n",
       "      <td>Shooting Guard</td>\n",
       "      <td>Right</td>\n",
       "      <td>6-6</td>\n",
       "      <td>199lb</td>\n",
       "      <td>February 2, 1997</td>\n",
       "      <td>NaN</td>\n",
       "    </tr>\n",
       "    <tr>\n",
       "      <th>530573</th>\n",
       "      <td>Jeremiah Martin</td>\n",
       "      <td>2021.0</td>\n",
       "      <td>Point Guard</td>\n",
       "      <td>Left</td>\n",
       "      <td>6-3</td>\n",
       "      <td>185lb</td>\n",
       "      <td>June 19, 1996</td>\n",
       "      <td>NaN</td>\n",
       "    </tr>\n",
       "    <tr>\n",
       "      <th>531842</th>\n",
       "      <td>Louis King</td>\n",
       "      <td>2021.0</td>\n",
       "      <td>Small Forward</td>\n",
       "      <td>Right</td>\n",
       "      <td>6-7</td>\n",
       "      <td>205lb</td>\n",
       "      <td>April 6, 1999</td>\n",
       "      <td>NaN</td>\n",
       "    </tr>\n",
       "    <tr>\n",
       "      <th>532770</th>\n",
       "      <td>Cameron Oliver</td>\n",
       "      <td>2021.0</td>\n",
       "      <td>Small Forward</td>\n",
       "      <td>Right</td>\n",
       "      <td>6-8</td>\n",
       "      <td>239lb</td>\n",
       "      <td>July 11, 1996</td>\n",
       "      <td>NaN</td>\n",
       "    </tr>\n",
       "    <tr>\n",
       "      <th>532857</th>\n",
       "      <td>Jay Scrubb</td>\n",
       "      <td>2021.0</td>\n",
       "      <td>Shooting Guard</td>\n",
       "      <td>Left</td>\n",
       "      <td>6-5</td>\n",
       "      <td>220lb</td>\n",
       "      <td>September 1, 2000</td>\n",
       "      <td>NaN</td>\n",
       "    </tr>\n",
       "  </tbody>\n",
       "</table>\n",
       "<p>191 rows × 8 columns</p>\n",
       "</div>"
      ],
      "text/plain": [
       "                 player  season_end        position shoots height weight  \\\n",
       "463645   Glenn Robinson      2019.0   Small Forward  Right    6-7  225lb   \n",
       "463652      Zach Lofton      2019.0  Shooting Guard  Right    6-4  180lb   \n",
       "463712    Jaren Jackson      2019.0  Shooting Guard  Right    6-4  190lb   \n",
       "463756   Alex Poythress      2019.0   Power Forward  Right    6-9  235lb   \n",
       "463766     John Holland      2019.0  Shooting Guard  Right    6-3  180lb   \n",
       "...                 ...         ...             ...    ...    ...    ...   \n",
       "530261    Charlie Brown      2021.0  Shooting Guard  Right    6-6  199lb   \n",
       "530573  Jeremiah Martin      2021.0     Point Guard   Left    6-3  185lb   \n",
       "531842       Louis King      2021.0   Small Forward  Right    6-7  205lb   \n",
       "532770   Cameron Oliver      2021.0   Small Forward  Right    6-8  239lb   \n",
       "532857       Jay Scrubb      2021.0  Shooting Guard   Left    6-5  220lb   \n",
       "\n",
       "                birthDate  salary  \n",
       "463645   January 10, 1973     NaN  \n",
       "463652  November 18, 1992     NaN  \n",
       "463712   October 27, 1967     NaN  \n",
       "463756  September 6, 1993     NaN  \n",
       "463766   December 6, 1956     NaN  \n",
       "...                   ...     ...  \n",
       "530261   February 2, 1997     NaN  \n",
       "530573      June 19, 1996     NaN  \n",
       "531842      April 6, 1999     NaN  \n",
       "532770      July 11, 1996     NaN  \n",
       "532857  September 1, 2000     NaN  \n",
       "\n",
       "[191 rows x 8 columns]"
      ]
     },
     "execution_count": 1147,
     "metadata": {},
     "output_type": "execute_result"
    }
   ],
   "source": [
    "scrap[scrap['salary'].isna()]"
   ]
  },
  {
   "cell_type": "markdown",
   "metadata": {},
   "source": [
    "En muchos casos, nos ha introducido NaN porque el salario aparecía como 'minimum', luego no ha podido pasar el valor a float().\n",
    "\n",
    "En otros casos, nos ha devuelto un jugador más antiguo (ej: nacido en 1956 jugando en 2019).\n",
    "\n",
    "Por ahora vamos a rellenar todos los valores con el valor mínimo. Más adelante ya detectaremos el resto de outliers calculando su edad."
   ]
  },
  {
   "cell_type": "code",
   "execution_count": 1140,
   "metadata": {},
   "outputs": [
    {
     "data": {
      "text/plain": [
       "4737.0"
      ]
     },
     "execution_count": 1140,
     "metadata": {},
     "output_type": "execute_result"
    }
   ],
   "source": [
    "scrap['salary'].min()"
   ]
  },
  {
   "cell_type": "code",
   "execution_count": 1153,
   "metadata": {},
   "outputs": [],
   "source": [
    "scrap['salary'].fillna(float(4737), inplace=True)"
   ]
  },
  {
   "cell_type": "markdown",
   "metadata": {},
   "source": [
    "Ya no tenemos valores vacíos en nuestra tabla 'scrap'"
   ]
  },
  {
   "cell_type": "code",
   "execution_count": 1155,
   "metadata": {},
   "outputs": [
    {
     "data": {
      "text/plain": [
       "player        0\n",
       "season_end    0\n",
       "position      0\n",
       "shoots        0\n",
       "height        0\n",
       "weight        0\n",
       "birthDate     0\n",
       "salary        0\n",
       "dtype: int64"
      ]
     },
     "execution_count": 1155,
     "metadata": {},
     "output_type": "execute_result"
    }
   ],
   "source": [
    "scrap.isna().sum()"
   ]
  },
  {
   "cell_type": "markdown",
   "metadata": {},
   "source": [
    "## Consolidación tablas"
   ]
  },
  {
   "cell_type": "markdown",
   "metadata": {},
   "source": [
    "Ahora tenemos nuestra tabla original 'data' y además las siguientes tablas auxiliares:\n",
    "\n",
    "- 'database', con datos desde 2001 hasta 2018\n",
    "    (esta tabla se une con 'data' a través de los campos 'name' y 'season_end')\n",
    "    \n",
    "- 'scrap', con datos desde 2019 hasta 2021\n",
    "    (esta tabla se une con 'data' a través de los campos 'player' y 'season_end)\n",
    "    \n",
    "Debemos unir toda la información en nuestra tabla 'data' y exportarla."
   ]
  },
  {
   "cell_type": "code",
   "execution_count": 1169,
   "metadata": {},
   "outputs": [],
   "source": [
    "# Dividimos nuestra tabla en 2\n",
    "data2001_2018 = data[data['season_end'] <= 2018]\n",
    "data2019_2021 = data[data['season_end'] > 2018]"
   ]
  },
  {
   "cell_type": "code",
   "execution_count": 1171,
   "metadata": {},
   "outputs": [],
   "source": [
    "# Hacemos 'merge' de la tabla 'database' con nuestra nueva tabla de 2001 a 2018\n",
    "data2001_2018 = data2001_2018.merge(database[['salary', 'season_end', 'birthDate', 'height', 'name','position', 'shoots', 'weight']],\n",
    "           on=['season_end', 'name'], how='left')\n"
   ]
  },
  {
   "cell_type": "code",
   "execution_count": 1177,
   "metadata": {
    "scrolled": true
   },
   "outputs": [],
   "source": [
    "# Hacemos 'merge' de la tabla 'scrap' con nuestra nueva tabla de 2019 a 2021\n",
    "data2019_2021 = data2019_2021.merge(scrap[['salary', 'season_end', 'birthDate', 'height', 'player','position', 'shoots', 'weight']],\n",
    "           on=['season_end', 'player'], how='left')\n"
   ]
  },
  {
   "cell_type": "code",
   "execution_count": 1180,
   "metadata": {},
   "outputs": [
    {
     "data": {
      "text/plain": [
       "array([ True,  True,  True,  True,  True,  True,  True,  True,  True,\n",
       "        True,  True,  True,  True,  True,  True,  True,  True,  True,\n",
       "        True,  True,  True,  True,  True,  True,  True,  True,  True,\n",
       "        True,  True,  True,  True,  True])"
      ]
     },
     "execution_count": 1180,
     "metadata": {},
     "output_type": "execute_result"
    }
   ],
   "source": [
    "# Ambas tablas tienen las mismas columnas, por lo que se pueden unir\n",
    "\n",
    "data2001_2018.columns == data2019_2021.columns"
   ]
  },
  {
   "cell_type": "code",
   "execution_count": 1187,
   "metadata": {},
   "outputs": [
    {
     "data": {
      "text/plain": [
       "(475840, 32)"
      ]
     },
     "execution_count": 1187,
     "metadata": {},
     "output_type": "execute_result"
    }
   ],
   "source": [
    "data2001_2018.shape"
   ]
  },
  {
   "cell_type": "code",
   "execution_count": 1188,
   "metadata": {},
   "outputs": [
    {
     "data": {
      "text/plain": [
       "(72224, 32)"
      ]
     },
     "execution_count": 1188,
     "metadata": {},
     "output_type": "execute_result"
    }
   ],
   "source": [
    "data2019_2021.shape"
   ]
  },
  {
   "cell_type": "code",
   "execution_count": 1186,
   "metadata": {},
   "outputs": [
    {
     "data": {
      "text/plain": [
       "548064"
      ]
     },
     "execution_count": 1186,
     "metadata": {},
     "output_type": "execute_result"
    }
   ],
   "source": [
    "data2001_2018.shape[0] + data2019_2021.shape[0]"
   ]
  },
  {
   "cell_type": "code",
   "execution_count": 1189,
   "metadata": {},
   "outputs": [],
   "source": [
    "data_nba = pd.concat([data2001_2018, data2019_2021])"
   ]
  },
  {
   "cell_type": "code",
   "execution_count": 1190,
   "metadata": {},
   "outputs": [
    {
     "data": {
      "text/plain": [
       "(548064, 32)"
      ]
     },
     "execution_count": 1190,
     "metadata": {},
     "output_type": "execute_result"
    }
   ],
   "source": [
    "data_nba.shape"
   ]
  },
  {
   "cell_type": "code",
   "execution_count": 1191,
   "metadata": {},
   "outputs": [],
   "source": [
    "# Exportamos los datos para evitar repetir las iteraciones tan largas\n",
    "\n",
    "data_nba.to_csv('./Data/data_nba.csv')"
   ]
  }
 ],
 "metadata": {
  "kernelspec": {
   "display_name": "Python 3",
   "language": "python",
   "name": "python3"
  },
  "language_info": {
   "codemirror_mode": {
    "name": "ipython",
    "version": 3
   },
   "file_extension": ".py",
   "mimetype": "text/x-python",
   "name": "python",
   "nbconvert_exporter": "python",
   "pygments_lexer": "ipython3",
   "version": "3.8.5"
  },
  "toc": {
   "base_numbering": 1,
   "nav_menu": {},
   "number_sections": true,
   "sideBar": true,
   "skip_h1_title": false,
   "title_cell": "Table of Contents",
   "title_sidebar": "Contents",
   "toc_cell": false,
   "toc_position": {
    "height": "calc(100% - 180px)",
    "left": "10px",
    "top": "150px",
    "width": "165px"
   },
   "toc_section_display": true,
   "toc_window_display": true
  },
  "varInspector": {
   "cols": {
    "lenName": 16,
    "lenType": 16,
    "lenVar": 40
   },
   "kernels_config": {
    "python": {
     "delete_cmd_postfix": "",
     "delete_cmd_prefix": "del ",
     "library": "var_list.py",
     "varRefreshCmd": "print(var_dic_list())"
    },
    "r": {
     "delete_cmd_postfix": ") ",
     "delete_cmd_prefix": "rm(",
     "library": "var_list.r",
     "varRefreshCmd": "cat(var_dic_list()) "
    }
   },
   "types_to_exclude": [
    "module",
    "function",
    "builtin_function_or_method",
    "instance",
    "_Feature"
   ],
   "window_display": false
  }
 },
 "nbformat": 4,
 "nbformat_minor": 4
}
